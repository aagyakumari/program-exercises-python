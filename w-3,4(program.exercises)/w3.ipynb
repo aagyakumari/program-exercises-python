{
 "cells": [
  {
   "cell_type": "code",
   "execution_count": 2,
   "metadata": {},
   "outputs": [
    {
     "name": "stdout",
     "output_type": "stream",
     "text": [
      "Hello, Stranger!\n"
     ]
    }
   ],
   "source": [
    "#Q1\n",
    "user_name = input(\"enter your name:\")\n",
    "if len(user_name)>0:\n",
    "    print(f\"Hello, {user_name}!\")\n",
    "elif len(user_name)==0:\n",
    "    print(f\"Hello, Stranger!\")"
   ]
  },
  {
   "cell_type": "code",
   "execution_count": 5,
   "metadata": {},
   "outputs": [
    {
     "name": "stdout",
     "output_type": "stream",
     "text": [
      "Password Set\n"
     ]
    }
   ],
   "source": [
    "#Q2\n",
    "password_1 = (input(\"choose your password:\"))\n",
    "new_password = (input(\"enter your new password:\"))\n",
    "if password_1 == new_password:\n",
    "    print(\"Password Set\")\n",
    "else:\n",
    "    print(\"Error!!!!\")"
   ]
  },
  {
   "cell_type": "code",
   "execution_count": 1,
   "metadata": {},
   "outputs": [
    {
     "name": "stdout",
     "output_type": "stream",
     "text": [
      "error!\n"
     ]
    }
   ],
   "source": [
    "#   Q3\n",
    "password_1 = (input(\"choose your password:\"))\n",
    "password_2 = (input(\"enter your new password:\"))\n",
    "if len(password_1) not in range(8,13):\n",
    "    password_1 = (input(\"re-enter your password:\"))\n",
    "    \n",
    "    if password_1 == password_2:\n",
    "       print(\"Password Set\")\n",
    "    else:\n",
    "       print(\"error!\")"
   ]
  },
  {
   "cell_type": "code",
   "execution_count": 9,
   "metadata": {},
   "outputs": [
    {
     "name": "stdout",
     "output_type": "stream",
     "text": [
      "error!\n"
     ]
    }
   ],
   "source": [
    "\n",
    "#Q4\n",
    "BAD_PASSWORDS = ['password', 'letmein', 'sesame', 'hello', 'justinbieber']\n",
    "password_1 = (input(\"choose your password:\"))\n",
    "password_2 = (input(\"enter the same password:\"))\n",
    "if len(password_1) not in range(8,13) or password_1 in BAD_PASSWORDS:\n",
    "    password_1 = (input(\"re-enter your password:\"))   \n",
    "    \n",
    "    if password_1 == password_2:\n",
    "       print(\"Password Set\")\n",
    "    else:\n",
    "       print(\"error!\")\n",
    "       \n",
    "       "
   ]
  },
  {
   "cell_type": "code",
   "execution_count": 2,
   "metadata": {},
   "outputs": [
    {
     "name": "stdout",
     "output_type": "stream",
     "text": [
      "Password Set\n"
     ]
    }
   ],
   "source": [
    "#Q5\n",
    "BAD_PASSWORDS = ['password', 'letmein', 'sesame', 'hello', 'justinbieber']\n",
    "while True:\n",
    "    password_1 = (input(\"choose your password:\"))\n",
    "    password_2 = (input(\"enter the same password:\"))\n",
    "    if len(password_1) not in range(8,13) or password_1 in BAD_PASSWORDS:\n",
    "        password_1 = (input(\"re-enter your password:\"))\n",
    "    else:   \n",
    "        \n",
    "        if password_1 == password_2:\n",
    "            print(\"Password Set\")\n",
    "            break\n",
    "        else:\n",
    "            print(\"error!\")\n",
    "            "
   ]
  },
  {
   "cell_type": "code",
   "execution_count": 3,
   "metadata": {},
   "outputs": [
    {
     "name": "stdout",
     "output_type": "stream",
     "text": [
      "0 * 7 = 0\n",
      "1 * 7 = 7\n",
      "2 * 7 = 14\n",
      "3 * 7 = 21\n",
      "4 * 7 = 28\n",
      "5 * 7 = 35\n",
      "6 * 7 = 42\n",
      "7 * 7 = 49\n",
      "8 * 7 = 56\n",
      "9 * 7 = 63\n",
      "10 * 7 = 70\n",
      "11 * 7 = 77\n",
      "12 * 7 = 84\n"
     ]
    }
   ],
   "source": [
    "#Q6\n",
    "number = 7\n",
    "for i in range (0,13):\n",
    "    print(f\"{i} * {number} = {i*number}\")"
   ]
  },
  {
   "cell_type": "code",
   "execution_count": 4,
   "metadata": {},
   "outputs": [
    {
     "name": "stdout",
     "output_type": "stream",
     "text": [
      "0 * 6 = 0\n",
      "1 * 6 = 6\n",
      "2 * 6 = 12\n",
      "3 * 6 = 18\n",
      "4 * 6 = 24\n",
      "5 * 6 = 30\n",
      "6 * 6 = 36\n",
      "7 * 6 = 42\n",
      "8 * 6 = 48\n",
      "9 * 6 = 54\n",
      "10 * 6 = 60\n",
      "11 * 6 = 66\n",
      "12 * 6 = 72\n"
     ]
    }
   ],
   "source": [
    "#Q7\n",
    "number = int(input(\"enter the number:\"))\n",
    "for i in range (0,13):\n",
    "    print(f\"{i} * {number} = {i*number}\")"
   ]
  },
  {
   "cell_type": "code",
   "execution_count": 8,
   "metadata": {},
   "outputs": [
    {
     "name": "stdout",
     "output_type": "stream",
     "text": [
      "12 * -7 = -84\n",
      "11 * -7 = -77\n",
      "10 * -7 = -70\n",
      "9 * -7 = -63\n",
      "8 * -7 = -56\n",
      "7 * -7 = -49\n",
      "6 * -7 = -42\n",
      "5 * -7 = -35\n",
      "4 * -7 = -28\n",
      "3 * -7 = -21\n",
      "2 * -7 = -14\n",
      "1 * -7 = -7\n",
      "0 * -7 = 0\n"
     ]
    }
   ],
   "source": [
    "#Q8\n",
    "number = int(input(\"enter the number:\"))\n",
    "if number < 0:\n",
    " for i in range (12,-1,-1):\n",
    "    print(f\"{i} * {number} = {i*number}\")\n",
    "else:\n",
    "    for i in range (0,13):\n",
    "       print(f\"{i} * {number} = {i*number}\")"
   ]
  },
  {
   "cell_type": "markdown",
   "metadata": {},
   "source": [
    "WEEK 3 EXERCISE"
   ]
  },
  {
   "cell_type": "markdown",
   "metadata": {},
   "source": [
    "1.) What is the data-type of the result when evaluating comparison (relational) expressions such\n",
    " as < and >?\n",
    "\n",
    " ans. Boolean"
   ]
  },
  {
   "cell_type": "markdown",
   "metadata": {},
   "source": [
    "2.) For each of the following expressions write the result of their evaluation.\n",
    "\n",
    "100 < 101 (True)\n",
    "100 > 99 (True)\n",
    "100 >= 100 (True)\n",
    "100 != 100 (False)\n",
    "\"abc\" < \"xyz\" (True)\n",
    "\"abc\" < \"XYZ\" (False)\n",
    "\"100\" == 100 (False)\n",
    "10 > 20 and 10 >= 10 (False)\n",
    "10 > 30 > 20 (False)\n",
    "40 < 20 or 20 < 30 (True)\n",
    "not True (False)\n",
    "\n",
    "\n",
    "\n"
   ]
  },
  {
   "cell_type": "code",
   "execution_count": 9,
   "metadata": {},
   "outputs": [
    {
     "name": "stdout",
     "output_type": "stream",
     "text": [
      "The colour black is in the list :  True\n"
     ]
    }
   ],
   "source": [
    "#3)\n",
    "colours = [ \"Blue\", \"Black\", \"Orange\" ]\n",
    "print(\"The colour black is in the list : \", \"Black\" in colours)"
   ]
  },
  {
   "cell_type": "code",
   "execution_count": 10,
   "metadata": {},
   "outputs": [
    {
     "name": "stdout",
     "output_type": "stream",
     "text": [
      "The colour orange is in the list :  False\n"
     ]
    }
   ],
   "source": [
    "#4)\n",
    "colours = [ \"Blue\", \"Black\", \"Orange\" ]\n",
    "print(\"The colour orange is in the list : \", \"orange\" in colours)"
   ]
  },
  {
   "cell_type": "markdown",
   "metadata": {},
   "source": [
    "5.) Which of the following concepts does the Python ‘if’ statement support?\n",
    " Sequence, Selection or Iteration?\n",
    "\n",
    " ans. selection"
   ]
  },
  {
   "cell_type": "code",
   "execution_count": 11,
   "metadata": {},
   "outputs": [
    {
     "name": "stdout",
     "output_type": "stream",
     "text": [
      "num1 is divisible by num2\n"
     ]
    }
   ],
   "source": [
    "#6)\n",
    "num1 = 100\n",
    "num2 = 10\n",
    "if num1 % num2 == 0:\n",
    " print(\"num1 is divisible by num2\")\n",
    "else:\n",
    " print(\"num1 is not divisible by num2\")"
   ]
  },
  {
   "cell_type": "code",
   "execution_count": 12,
   "metadata": {},
   "outputs": [
    {
     "name": "stdout",
     "output_type": "stream",
     "text": [
      "num1 is greater than num2\n"
     ]
    }
   ],
   "source": [
    "\n",
    "#7)\n",
    "num1 = 99\n",
    "num2 = 70\n",
    "if num1 < num2:\n",
    " print(\"num1 is less than num2\")\n",
    "elif num1 > num2:\n",
    " print(\"num1 is greater than num2\")\n",
    "else:\n",
    " print(\"num1 is equal to num2\")"
   ]
  },
  {
   "cell_type": "markdown",
   "metadata": {},
   "source": [
    "8.) lowest = x if x < y else y\n",
    "\n",
    "ans. ternary operator"
   ]
  },
  {
   "cell_type": "markdown",
   "metadata": {},
   "source": [
    "9.)  And, what value would be assigned to the variable ‘lowest’ when ‘x’ was equal to 10 and\n",
    " ‘y’ was equal to 5?"
   ]
  },
  {
   "cell_type": "code",
   "execution_count": 14,
   "metadata": {},
   "outputs": [
    {
     "name": "stdout",
     "output_type": "stream",
     "text": [
      "5\n"
     ]
    }
   ],
   "source": [
    "x = 10\n",
    "y = 5\n",
    "lowest = x if x < y else y\n",
    "print(lowest)"
   ]
  },
  {
   "cell_type": "code",
   "execution_count": 15,
   "metadata": {},
   "outputs": [
    {
     "name": "stdout",
     "output_type": "stream",
     "text": [
      "not in range\n"
     ]
    }
   ],
   "source": [
    "#10.) \n",
    "num =  int(input(\"please enter a number between 1 and 10 : \"))\n",
    "if num in range (1,11):\n",
    "    print(\"in range\")\n",
    "else:\n",
    "    print(\"not in range\")"
   ]
  },
  {
   "cell_type": "code",
   "execution_count": 16,
   "metadata": {},
   "outputs": [
    {
     "name": "stdout",
     "output_type": "stream",
     "text": [
      "The value 'y' is larger than the value 'x'\n"
     ]
    }
   ],
   "source": [
    "#11)\n",
    "x = int(input(\"enter the first value:\"))\n",
    "y = int(input(\"enter the second value:\"))\n",
    "if x > y:\n",
    "    print(\" The value 'x' is larger than the value 'y'\")\n",
    "elif y > x:\n",
    "    print(\"The value 'y' is larger than the value 'x'\")\n",
    "    "
   ]
  },
  {
   "cell_type": "markdown",
   "metadata": {},
   "source": [
    "12.) Examine the output generated by the above program. Is the displayed text entirely accurate\n",
    " in all cases? If not Why?\n",
    "\n",
    " ans. when x and y are equal"
   ]
  },
  {
   "cell_type": "markdown",
   "metadata": {},
   "source": [
    "13.)  Within the answer box below write a small Python program that asks the user to enter two\n",
    " values.\n",
    " Store these values in two variables then output a message displaying the result of dividing\n",
    " the first value by the second value.\n",
    " Include code that prevents a run-time error being reported when the user inputs a value of '0'\n",
    " for the second input. Hint: use an ‘if’ statement\n",
    " If a '0' value is input, print a message saying \"division by 0 is not possible\"."
   ]
  },
  {
   "cell_type": "code",
   "execution_count": 19,
   "metadata": {},
   "outputs": [
    {
     "name": "stdout",
     "output_type": "stream",
     "text": [
      "-2.5\n"
     ]
    }
   ],
   "source": [
    "x = int(input(\"enter the first value:\"))\n",
    "y = int(input(\"enter the second value:\"))\n",
    "if y != 0:\n",
    "  print(x/y)\n",
    "else:\n",
    "    y == 0\n",
    "    print(\"division by 0 is not possible\")"
   ]
  },
  {
   "cell_type": "markdown",
   "metadata": {},
   "source": [
    "14.) Which of the following concepts does the Python while statement support?\n",
    " Sequence, Selection or Iteration?\n",
    "\n",
    " ans. Iteration"
   ]
  },
  {
   "cell_type": "markdown",
   "metadata": {},
   "source": [
    "15.) What would be the output shown following the execution of the following Python statements?\n",
    " num = 5\n",
    " while num > 0:\n",
    " print(num)\n",
    " num -= 1"
   ]
  },
  {
   "cell_type": "code",
   "execution_count": 20,
   "metadata": {},
   "outputs": [
    {
     "name": "stdout",
     "output_type": "stream",
     "text": [
      "5\n",
      "4\n",
      "3\n",
      "2\n",
      "1\n"
     ]
    }
   ],
   "source": [
    "\n",
    "num = 5\n",
    "while num > 0:\n",
    "   print(num)\n",
    "   num -= 1"
   ]
  },
  {
   "cell_type": "markdown",
   "metadata": {},
   "source": [
    "16.)  Write a small Python program that prints your name to the screen 100 times, then enter the\n",
    " program into the answer box below. Hint: use a ‘while’ loop."
   ]
  },
  {
   "cell_type": "code",
   "execution_count": 4,
   "metadata": {},
   "outputs": [
    {
     "name": "stdout",
     "output_type": "stream",
     "text": [
      "aagya\n",
      "aagya\n",
      "aagya\n",
      "aagya\n",
      "aagya\n",
      "aagya\n",
      "aagya\n",
      "aagya\n",
      "aagya\n",
      "aagya\n",
      "aagya\n",
      "aagya\n",
      "aagya\n",
      "aagya\n",
      "aagya\n",
      "aagya\n",
      "aagya\n",
      "aagya\n",
      "aagya\n",
      "aagya\n",
      "aagya\n",
      "aagya\n",
      "aagya\n",
      "aagya\n",
      "aagya\n",
      "aagya\n",
      "aagya\n",
      "aagya\n",
      "aagya\n",
      "aagya\n",
      "aagya\n",
      "aagya\n",
      "aagya\n",
      "aagya\n",
      "aagya\n",
      "aagya\n",
      "aagya\n",
      "aagya\n",
      "aagya\n",
      "aagya\n",
      "aagya\n",
      "aagya\n",
      "aagya\n",
      "aagya\n",
      "aagya\n",
      "aagya\n",
      "aagya\n",
      "aagya\n",
      "aagya\n",
      "aagya\n",
      "aagya\n",
      "aagya\n",
      "aagya\n",
      "aagya\n",
      "aagya\n",
      "aagya\n",
      "aagya\n",
      "aagya\n",
      "aagya\n",
      "aagya\n",
      "aagya\n",
      "aagya\n",
      "aagya\n",
      "aagya\n",
      "aagya\n",
      "aagya\n",
      "aagya\n",
      "aagya\n",
      "aagya\n",
      "aagya\n",
      "aagya\n",
      "aagya\n",
      "aagya\n",
      "aagya\n",
      "aagya\n",
      "aagya\n",
      "aagya\n",
      "aagya\n",
      "aagya\n",
      "aagya\n",
      "aagya\n",
      "aagya\n",
      "aagya\n",
      "aagya\n",
      "aagya\n",
      "aagya\n",
      "aagya\n",
      "aagya\n",
      "aagya\n",
      "aagya\n",
      "aagya\n",
      "aagya\n",
      "aagya\n",
      "aagya\n",
      "aagya\n",
      "aagya\n",
      "aagya\n",
      "aagya\n",
      "aagya\n",
      "aagya\n"
     ]
    }
   ],
   "source": [
    "n = 1\n",
    "while n <=100:\n",
    "    print(\"aagya\")\n",
    "    n += 1"
   ]
  },
  {
   "cell_type": "markdown",
   "metadata": {},
   "source": [
    "17.)  What would be the output shown following the execution of the following Python statements?\n",
    " vals = [\"A\", \"B\", \"C\", \"D\"]\n",
    " for letter in vals:\n",
    " print(letter)\n"
   ]
  },
  {
   "cell_type": "code",
   "execution_count": 1,
   "metadata": {},
   "outputs": [
    {
     "name": "stdout",
     "output_type": "stream",
     "text": [
      "A\n",
      "B\n",
      "C\n",
      "D\n"
     ]
    }
   ],
   "source": [
    "vals = [\"A\", \"B\", \"C\", \"D\"]\n",
    "for letter in vals:\n",
    "     print(letter)"
   ]
  },
  {
   "cell_type": "markdown",
   "metadata": {},
   "source": [
    "18.) What would be the output shown following the execution of each of the following Python\n",
    " statements?"
   ]
  },
  {
   "cell_type": "code",
   "execution_count": 2,
   "metadata": {},
   "outputs": [
    {
     "name": "stdout",
     "output_type": "stream",
     "text": [
      "0\n",
      "1\n",
      "2\n",
      "3\n",
      "4\n"
     ]
    }
   ],
   "source": [
    "for num in range(5):\n",
    " print(num)"
   ]
  },
  {
   "cell_type": "code",
   "execution_count": 3,
   "metadata": {},
   "outputs": [
    {
     "name": "stdout",
     "output_type": "stream",
     "text": [
      "10\n",
      "11\n",
      "12\n",
      "13\n",
      "14\n",
      "15\n"
     ]
    }
   ],
   "source": [
    "for num in range(10,16):\n",
    " print(num)"
   ]
  },
  {
   "cell_type": "code",
   "execution_count": 6,
   "metadata": {},
   "outputs": [],
   "source": [
    "for num in range(0,10,-1):\n",
    " print(num)"
   ]
  },
  {
   "cell_type": "markdown",
   "metadata": {},
   "source": [
    "19.)  Enter and execute the python code shown below, then show the exact output into the\n",
    " answer box."
   ]
  },
  {
   "cell_type": "code",
   "execution_count": 7,
   "metadata": {},
   "outputs": [
    {
     "name": "stdout",
     "output_type": "stream",
     "text": [
      "\n",
      "*\n",
      "\n",
      "*\n",
      "*\n",
      "\n",
      "*\n",
      "*\n",
      "*\n",
      "\n",
      "*\n",
      "*\n",
      "*\n",
      "*\n",
      "\n",
      "*\n",
      "*\n",
      "*\n",
      "*\n",
      "*\n",
      "\n",
      "*\n",
      "*\n",
      "*\n",
      "*\n",
      "*\n",
      "*\n",
      "\n",
      "*\n",
      "*\n",
      "*\n",
      "*\n",
      "*\n",
      "*\n",
      "*\n",
      "\n",
      "*\n",
      "*\n",
      "*\n",
      "*\n",
      "*\n",
      "*\n",
      "*\n",
      "*\n",
      "\n"
     ]
    }
   ],
   "source": [
    "for x in range(1,10):\n",
    "     for y in range (1,x):\n",
    "          print(\"*\")\n",
    "     print()"
   ]
  },
  {
   "cell_type": "markdown",
   "metadata": {},
   "source": [
    "20.)  What is the term used to refer to code blocks that appear inside other code blocks as in the\n",
    " above program?\n",
    "\n",
    " ans. nested code blocks"
   ]
  }
 ],
 "metadata": {
  "kernelspec": {
   "display_name": "Python 3",
   "language": "python",
   "name": "python3"
  },
  "language_info": {
   "codemirror_mode": {
    "name": "ipython",
    "version": 3
   },
   "file_extension": ".py",
   "mimetype": "text/x-python",
   "name": "python",
   "nbconvert_exporter": "python",
   "pygments_lexer": "ipython3",
   "version": "3.12.0"
  }
 },
 "nbformat": 4,
 "nbformat_minor": 2
}
