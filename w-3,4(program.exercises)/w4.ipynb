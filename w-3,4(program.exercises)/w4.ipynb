{
 "cells": [
  {
   "cell_type": "code",
   "execution_count": 6,
   "metadata": {},
   "outputs": [
    {
     "name": "stdout",
     "output_type": "stream",
     "text": [
      "False\n"
     ]
    }
   ],
   "source": [
    "#Q1\n",
    "def my_func(a):\n",
    "    if a in range (0,101):\n",
    "        return True\n",
    "    else:\n",
    "        return False\n",
    "    \n",
    "result = my_func(102)\n",
    "print(result)\n",
    "\n"
   ]
  },
  {
   "cell_type": "code",
   "execution_count": 13,
   "metadata": {},
   "outputs": [
    {
     "name": "stdout",
     "output_type": "stream",
     "text": [
      "the total uppercase letters = 2\n",
      " thelowercase letters = 3\n"
     ]
    }
   ],
   "source": [
    "#Q2\n",
    "def strng(a):\n",
    "    low = 0\n",
    "    upp = 0\n",
    "    for i in a:\n",
    "        y = i\n",
    "        if i.upper() == y:\n",
    "            upp += 1\n",
    "        else:\n",
    "            low += 1\n",
    "    return upp,low\n",
    "upp,low = strng(\"AagYa\")\n",
    "print(f\"the total uppercase letters = {upp}\")\n",
    "print(f\" thelowercase letters = {low}\")\n",
    "            \n",
    "    "
   ]
  },
  {
   "cell_type": "code",
   "execution_count": 15,
   "metadata": {},
   "outputs": [
    {
     "name": "stdout",
     "output_type": "stream",
     "text": [
      "Hello,what is your name? Aagya\n",
      "Hello, Aagya. Good to meet you!\n"
     ]
    }
   ],
   "source": [
    "#Q3\n",
    "user_name = input(\"enter your name:\")\n",
    "result = user_name.title()\n",
    "print(f\"Hello,what is your name? {result}\\nHello, {result}. Good to meet you!\")"
   ]
  },
  {
   "cell_type": "code",
   "execution_count": 18,
   "metadata": {},
   "outputs": [
    {
     "name": "stdout",
     "output_type": "stream",
     "text": [
      "Aagy\n"
     ]
    }
   ],
   "source": [
    "#Q4\n",
    "def strng(a):\n",
    "    removed = a[ : -1]\n",
    "    return removed\n",
    "\n",
    "user_strng = strng(\"Aagya\")\n",
    "print(user_strng)"
   ]
  },
  {
   "cell_type": "code",
   "execution_count": 20,
   "metadata": {},
   "outputs": [
    {
     "name": "stdout",
     "output_type": "stream",
     "text": [
      "50 in fahrenheit is 122.0\n",
      "100 in celcius is 2.958579881656805\n"
     ]
    }
   ],
   "source": [
    "#Q5\n",
    "def temp_1(c):\n",
    "    '''for conversion from celcius to fahrenheit'''\n",
    "    fahrenheit = c * (9/5)+32\n",
    "    return fahrenheit\n",
    "\n",
    "def temp_2(f):\n",
    "    ''' for conversion from fahrenheit to celcius'''\n",
    "    celcius = f / ((9/5)+32)\n",
    "    return celcius\n",
    "\n",
    "convert_c = temp_1(50)\n",
    "convert_f = temp_2(100)\n",
    "print(f\"50 in fahrenheit is {convert_c}\")\n",
    "print(f\"100 in celcius is {convert_f}\")\n",
    "\n",
    "\n",
    "    "
   ]
  },
  {
   "cell_type": "code",
   "execution_count": 23,
   "metadata": {},
   "outputs": [
    {
     "name": "stdout",
     "output_type": "stream",
     "text": [
      "The temperature in Fahrenheit is 212.0F\n"
     ]
    }
   ],
   "source": [
    "#Q6\n",
    "user_centi = input(\"enter the centigrate temperature:\")\n",
    "\n",
    "fahrenheit = float(user_centi[ : -1]) * (9/5)+32\n",
    "print(f\"The temperature in Fahrenheit is {fahrenheit}F\")\n"
   ]
  },
  {
   "cell_type": "code",
   "execution_count": 29,
   "metadata": {},
   "outputs": [
    {
     "name": "stdout",
     "output_type": "stream",
     "text": [
      "the maximum,minimum and mean temperature is 194.0,50.0 and119.42857142857143\n"
     ]
    }
   ],
   "source": [
    "#Q7\n",
    "from statistics import mean\n",
    "fah_list = []\n",
    "for i in range (0,7):\n",
    "    user_centi = input(\"enter the centigrate temperature:\")\n",
    "    fahrenheit = float(user_centi[ : -1]) * (9/5)+32\n",
    "    fah_list.append(fahrenheit)\n",
    "    \n",
    "maximum = max(fah_list)\n",
    "minimum = min(fah_list)\n",
    "mean_temp = mean(fah_list)\n",
    "\n",
    "print(f\"the maximum,minimum and mean temperature is {maximum},{minimum} and {mean_temp}.\")\n"
   ]
  },
  {
   "cell_type": "code",
   "execution_count": 35,
   "metadata": {},
   "outputs": [
    {
     "name": "stdout",
     "output_type": "stream",
     "text": [
      "the maximum,minimum and mean temperature is 194.0,39.2 and 79.25.\n"
     ]
    }
   ],
   "source": [
    "#Q8\n",
    "from statistics import mean\n",
    "fah_list = []\n",
    "while True:\n",
    "    user_centi = input(\"enter the centigrate temperature:\")\n",
    "    if len(user_centi) == 0:\n",
    "        break\n",
    "    else:\n",
    "        fahrenheit = float(user_centi[ : -1]) * (9/5)+32\n",
    "        fah_list.append(fahrenheit)\n",
    "if len(fah_list) != 0:\n",
    "    maximum = max(fah_list)\n",
    "    minimum = min(fah_list)\n",
    "    mean_temp = mean(fah_list)\n",
    "else:\n",
    "    maximum = 0\n",
    "    minimum = 0\n",
    "    mean_temp = 0\n",
    "\n",
    "print(f\"the maximum,minimum and mean temperature is {maximum},{minimum} and {mean_temp}.\")\n"
   ]
  },
  {
   "cell_type": "markdown",
   "metadata": {},
   "source": [
    "WEEK 4 EXERCISES"
   ]
  },
  {
   "cell_type": "markdown",
   "metadata": {},
   "source": [
    "1.) What must be done before a function that is not built-in to Python can be used in a program?\n",
    "\n",
    "ans. import from library"
   ]
  },
  {
   "cell_type": "markdown",
   "metadata": {},
   "source": [
    "2.) Given the following import statement, how would a call to the sin() function be made? \n",
    "\n",
    "import math \n",
    "\n",
    "ans. math.sin()"
   ]
  },
  {
   "cell_type": "markdown",
   "metadata": {},
   "source": [
    "3.) Given the following import statement, how would a call to the sqrt() function be made? \n",
    "\n",
    "from math import sqrt \n",
    "\n",
    "ans. sqrt()"
   ]
  },
  {
   "cell_type": "markdown",
   "metadata": {},
   "source": [
    "4.) What is the name of the common library that is available with all Python distributions?\n",
    "\n",
    "ans. python standard library"
   ]
  },
  {
   "cell_type": "markdown",
   "metadata": {},
   "source": [
    "5.) What keyword is used in Python to define a new function?\n",
    "\n",
    "ans. def"
   ]
  },
  {
   "cell_type": "markdown",
   "metadata": {},
   "source": [
    "6.) Write some Python code that defines a function called print_header(msg). This should \n",
    "output the value provided by the ‘msg’ parameter to the screen (prefixed by five asterisk \n",
    "‘*****’) characters."
   ]
  },
  {
   "cell_type": "code",
   "execution_count": 2,
   "metadata": {},
   "outputs": [
    {
     "name": "stdout",
     "output_type": "stream",
     "text": [
      "*****\n"
     ]
    }
   ],
   "source": [
    "def print_header(msg):\n",
    "    return msg\n",
    "\n",
    "result = print_header(\"*****\")\n",
    "print(result)\n",
    "    \n",
    "\n",
    "\n"
   ]
  },
  {
   "cell_type": "code",
   "execution_count": null,
   "metadata": {},
   "outputs": [],
   "source": [
    "#7.) In the answer box below give an example of what the docstring may look like for the  \n",
    "#print_header(msg) function. \n",
    "\n",
    "def print_header(msg):\n",
    "    '''defining the function'''"
   ]
  },
  {
   "cell_type": "markdown",
   "metadata": {},
   "source": [
    "8.) Where within a function definition should a docstring appear? \n",
    "\n",
    "ans. first statement of the function body."
   ]
  },
  {
   "cell_type": "markdown",
   "metadata": {},
   "source": [
    "9.) What statement should appear within a function’s code block to cause a specific value to be \n",
    "passed back to the caller of the function? \n",
    "\n",
    "ans. return"
   ]
  },
  {
   "cell_type": "markdown",
   "metadata": {},
   "source": [
    "10.) Write some Python code that defines a function called find_min(a,b) that returns the \n",
    "smallest of the two given parameter values."
   ]
  },
  {
   "cell_type": "code",
   "execution_count": 3,
   "metadata": {},
   "outputs": [
    {
     "name": "stdout",
     "output_type": "stream",
     "text": [
      "1\n"
     ]
    }
   ],
   "source": [
    "def find_min(a,b):\n",
    "    return min(a,b)\n",
    "\n",
    "minimum = find_min(1,2)\n",
    "print(minimum)"
   ]
  },
  {
   "cell_type": "markdown",
   "metadata": {},
   "source": [
    "11.) Given the following function definition, which of the formal parameters could be described as \n",
    "being a default argument? \n",
    "def shouldContinue(prompt, answer=False): \n",
    "# function body... \n",
    "\n",
    "ans. answer = False"
   ]
  },
  {
   "cell_type": "markdown",
   "metadata": {},
   "source": [
    "12.) Provide two example calls to the above function, one which provides a value for the default \n",
    "argument, and one that does not."
   ]
  },
  {
   "cell_type": "markdown",
   "metadata": {},
   "source": [
    "shouldCountinue(\"hello\",answer =\"True\") /default argument/"
   ]
  },
  {
   "cell_type": "markdown",
   "metadata": {},
   "source": [
    "shouldCountinue(\"hello\") /without default argument/"
   ]
  },
  {
   "cell_type": "markdown",
   "metadata": {},
   "source": [
    "13.) State why following function definition would not be allowed. \n",
    "def do_something(prefix=\"Message\", prompt, answer=False): \n",
    "# function body... \n",
    "\n",
    "ans. keyword argumnets must follow positonal arguments."
   ]
  },
  {
   "cell_type": "markdown",
   "metadata": {},
   "source": [
    "14.) What single character is placed directly before the name of a formal parameter, to indicate \n",
    "that a variable number of actual parameters can be passed when the function is called?\n",
    "\n",
    "ans. *"
   ]
  },
  {
   "cell_type": "markdown",
   "metadata": {},
   "source": [
    "15.) What commonly used built-in function, which displays output on the screen, can take a \n",
    "variable number of arguments?\n",
    "\n",
    "ans. print()"
   ]
  },
  {
   "cell_type": "markdown",
   "metadata": {},
   "source": [
    "16.) Is it valid for a function’s parameter name to be prefixed by two asterisk characters ‘**’ as \n",
    "shown below? \n",
    "def send_output(**details):\n",
    "\n",
    "\n",
    "ans. yes (arbitary keyword arguments)"
   ]
  },
  {
   "cell_type": "markdown",
   "metadata": {},
   "source": [
    "17.) What is the name given to a small ‘anonymous’ function that must be defined using a single \n",
    "expression?\n",
    "\n",
    "ans. lambda"
   ]
  },
  {
   "cell_type": "code",
   "execution_count": 4,
   "metadata": {},
   "outputs": [
    {
     "name": "stdout",
     "output_type": "stream",
     "text": [
      "8\n"
     ]
    }
   ],
   "source": [
    "#18.)Give an example of such a function that calculates the cube of a given number (i.e. the value \n",
    "#of the number raised to the power of three) - \n",
    "\n",
    "def cube_num(a):\n",
    "    return a ** 3\n",
    "\n",
    "cube = cube_num(2)\n",
    "print(cube)\n"
   ]
  }
 ],
 "metadata": {
  "kernelspec": {
   "display_name": "Python 3",
   "language": "python",
   "name": "python3"
  },
  "language_info": {
   "codemirror_mode": {
    "name": "ipython",
    "version": 3
   },
   "file_extension": ".py",
   "mimetype": "text/x-python",
   "name": "python",
   "nbconvert_exporter": "python",
   "pygments_lexer": "ipython3",
   "version": "3.12.0"
  }
 },
 "nbformat": 4,
 "nbformat_minor": 2
}
