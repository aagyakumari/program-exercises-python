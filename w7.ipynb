{
 "cells": [
  {
   "cell_type": "markdown",
   "metadata": {},
   "source": [
    "week 7 programs"
   ]
  },
  {
   "cell_type": "code",
   "execution_count": 12,
   "metadata": {},
   "outputs": [
    {
     "name": "stdout",
     "output_type": "stream",
     "text": [
      "the sorted list is,['a', 'b', 'c', 'd', 'e', 'f', 'g', 'h', 'i', 'j', 'k', 'l', 'm', 'n', 'o', 'p', 'q', 'r', 't', 'u', 'v', 'w', 'x', 'y', 'z']\n"
     ]
    }
   ],
   "source": [
    "#Q1  Write and test a function that takes a string as a parameter and returns a sorted list\n",
    " #of all the unique letters used in the string. So, if the string is cheese, the list\n",
    " #returned should be ['c', 'e', 'h', 's'].\n",
    "def get_string(my_string):\n",
    "    my_list = []\n",
    "    for i in my_string:\n",
    "        my_list.append(i)\n",
    "        \n",
    "    \n",
    "    my_set = set(my_list)\n",
    "    new_list = list(my_set)\n",
    "    new_list.sort()\n",
    "    return new_list\n",
    "   \n",
    "user_string = get_string(\"thequickbrownfoxjumpedoverthelazydog\")\n",
    "print(f\"the sorted list is,{user_string}\")\n",
    "\n",
    "        "
   ]
  },
  {
   "cell_type": "code",
   "execution_count": 15,
   "metadata": {},
   "outputs": [
    {
     "name": "stdout",
     "output_type": "stream",
     "text": [
      "the letters that appear in both words:{'y', 'd', 'a', 'g', 'h', 'n', 'i'}\n"
     ]
    }
   ],
   "source": [
    "# Write and test three functions that each take two words (strings) as parameters and\n",
    " #\n",
    " # 3\n",
    " # 3return sorted lists (as defined above) representing respectively:\n",
    " #Letters that appear in at least one of the two words.\n",
    " #Letters that appear in both words.\n",
    " #Letters that appear in either word, but not in both.\n",
    " \n",
    "def get_string(string_1,string_2):\n",
    "    list_1=[]\n",
    "    list_2=[]\n",
    "    for i in string_1:\n",
    "        list_1.append(i)\n",
    "    for i in string_2:\n",
    "        list_2.append(i)\n",
    "    \n",
    "    set_1 = set(list_1)\n",
    "    set_2 = set(list_2)\n",
    "    atleast_one = set_1.union(set_2)\n",
    "    return atleast_one\n",
    "\n",
    "user_string = get_string(\"aagya\",\"adhin\")\n",
    "print(f\"the letters that appear in at least one of the two words:{user_string}\")\n",
    "    \n",
    "\n"
   ]
  },
  {
   "cell_type": "code",
   "execution_count": 16,
   "metadata": {},
   "outputs": [
    {
     "name": "stdout",
     "output_type": "stream",
     "text": [
      "the letters that appear in both words:{'a'}\n"
     ]
    }
   ],
   "source": [
    "def get_string(string_1,string_2):\n",
    "    list_1=[]\n",
    "    list_2=[]\n",
    "    for i in string_1:\n",
    "        list_1.append(i)\n",
    "    for i in string_2:\n",
    "        list_2.append(i)\n",
    "    \n",
    "    set_1 = set(list_1)\n",
    "    set_2 = set(list_2)\n",
    "    both = set_1.intersection(set_2)\n",
    "    return both\n",
    "\n",
    "user_string = get_string(\"aagya\",\"adhin\")\n",
    "print(f\"the letters that appear in both words:{user_string}\")"
   ]
  },
  {
   "cell_type": "code",
   "execution_count": 17,
   "metadata": {},
   "outputs": [
    {
     "name": "stdout",
     "output_type": "stream",
     "text": [
      "the letters that appear in both words:{'g', 'h', 'n', 'y', 'd', 'i'}\n"
     ]
    }
   ],
   "source": [
    "def get_string(string_1,string_2):\n",
    "    list_1=[]\n",
    "    list_2=[]\n",
    "    for i in string_1:\n",
    "        list_1.append(i)\n",
    "    for i in string_2:\n",
    "        list_2.append(i)\n",
    "    \n",
    "    set_1 = set(list_1)\n",
    "    set_2 = set(list_2)\n",
    "    symmetric = set_1.symmetric_difference(set_2)\n",
    "    return symmetric\n",
    "\n",
    "user_string = get_string(\"aagya\",\"adhin\")\n",
    "print(f\"the letters that appear either words,but not in both:{user_string}\")"
   ]
  },
  {
   "cell_type": "code",
   "execution_count": 20,
   "metadata": {},
   "outputs": [
    {
     "name": "stdout",
     "output_type": "stream",
     "text": [
      "the capital is added!\n",
      "Country not found\n"
     ]
    }
   ],
   "source": [
    "#Q3 Write a program that manages a list of countries and their capital cities. It should\n",
    "#  prompt the user to enter the name of a country. If the program already \"knows\"\n",
    "#  the name of the capital city, it should display it. Otherwise it should ask the user to\n",
    "#  enter it. This should carry on until the user terminates the program (how this\n",
    "#  happens is up to you).\n",
    "#  Note: A good solution to this task will be able to cope with the country being entered\n",
    "#  variously as, for example, \"Wales\", \"wales\", \"WALES\" and so on.\n",
    "#Q3\n",
    "country_with_capital = {\n",
    "            \"Nepal\" : \"Kathmandu\",\n",
    "            \"Bhutan\" : \"\",\n",
    "            \"China\" : \"Beijing\",\n",
    "            \"Poland\" : \"Warsaw\",\n",
    "            \"Germany\" : \"\",\n",
    "            \"Sri Lanka\" : \"Colombo\"}\n",
    "\n",
    "while True:\n",
    "    country = input(\"enter the name of the country: \")\n",
    "\n",
    "    found = False\n",
    "\n",
    "    for i in country_with_capital:\n",
    "        \n",
    "        if i.lower() == country.lower():\n",
    "            \n",
    "            found = True\n",
    "            \n",
    "            if country_with_capital[i] == \"\":\n",
    "                capital = input(\"enter the capital of the country: \")\n",
    "                print(\"the capital is added!\")\n",
    "                \n",
    "            else:\n",
    "                print(country_with_capital[i])\n",
    "\n",
    "    if found == False:\n",
    "        print(\"Country not found\")\n",
    "    \n",
    "    more = input(\"Continue?(y/n) \").lower()\n",
    "    \n",
    "    if more.lower() == \"n\" or more.lower() == \"no\":\n",
    "        break\n",
    "    \n",
    "    else:\n",
    "        continue"
   ]
  }
 ],
 "metadata": {
  "kernelspec": {
   "display_name": "Python 3",
   "language": "python",
   "name": "python3"
  },
  "language_info": {
   "codemirror_mode": {
    "name": "ipython",
    "version": 3
   },
   "file_extension": ".py",
   "mimetype": "text/x-python",
   "name": "python",
   "nbconvert_exporter": "python",
   "pygments_lexer": "ipython3",
   "version": "3.12.0"
  }
 },
 "nbformat": 4,
 "nbformat_minor": 2
}
