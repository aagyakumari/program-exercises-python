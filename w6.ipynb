{
 "cells": [
  {
   "cell_type": "markdown",
   "metadata": {},
   "source": [
    "WEEK 6 EXERCISE"
   ]
  },
  {
   "cell_type": "code",
   "execution_count": null,
   "metadata": {},
   "outputs": [],
   "source": [
    "#Q1  Write a function that accepts a positive integer as a parameter and then returns a\n",
    " #representation of that number in binary (base 2).\n",
    " #Hint: This is in many ways a trick question. Think!\n",
    " \n",
    "def int_to_binary_manual(n):\n",
    "    if n < 0:\n",
    "        raise ValueError(\"Input must be a positive integer.\")\n",
    "    elif n == 0:\n",
    "        return '0'\n",
    "    \n",
    "    binary_representation = \"\"\n",
    "    while n > 0:\n",
    "        remainder = n % 2\n",
    "        binary_representation = str(remainder) + binary_representation\n",
    "        n //= 2\n",
    "\n",
    "    return binary_representation\n",
    "\n",
    "# Example usage:\n",
    "positive_integer = 42\n",
    "binary_representation = int_to_binary_manual(positive_integer)\n",
    "print(f\"The binary representation of {positive_integer} is: {binary_representation}\")\n",
    " "
   ]
  },
  {
   "cell_type": "code",
   "execution_count": 3,
   "metadata": {},
   "outputs": [
    {
     "name": "stdout",
     "output_type": "stream",
     "text": [
      "the factors are,[1, 2, 4, 8]\n"
     ]
    }
   ],
   "source": [
    "#Q2  Write and test a function that takes an integer as its parameter and returns the\n",
    " #factors of that integer. (A factor is an integer which can be multiplied by another to\n",
    " #yield the original).\n",
    "factors = []\n",
    "def factor_num(n):\n",
    "    for i in range(1,n+1):\n",
    "        if n % i == 0:\n",
    "            factors.append(i)\n",
    "    print(f\"the factors of the given integer are,{factors}\")\n",
    "            \n",
    "factor_num(8)\n",
    "            "
   ]
  },
  {
   "cell_type": "code",
   "execution_count": 17,
   "metadata": {},
   "outputs": [
    {
     "name": "stdout",
     "output_type": "stream",
     "text": [
      "prime number\n"
     ]
    }
   ],
   "source": [
    "#Q3  Write and test a function that determines if a given integer is a prime number. A\n",
    " #prime number is an integer greater than 1 that cannot be produced by multiplying\n",
    " #two other integers\n",
    " \n",
    "factors = []\n",
    "def factor_num(n):\n",
    "    for i in range(1,n+1):\n",
    "        if n % i == 0:\n",
    "            factors.append(i)\n",
    "            \n",
    "factor_num(11)\n",
    "\n",
    "if len(factors)==2:\n",
    "    print(\"prime number\")\n",
    "else:\n",
    "    print(\"composite number\")\n",
    "    \n",
    "\n"
   ]
  },
  {
   "cell_type": "code",
   "execution_count": 1,
   "metadata": {},
   "outputs": [
    {
     "name": "stdout",
     "output_type": "stream",
     "text": [
      "ahjiramukaygaa\n"
     ]
    }
   ],
   "source": [
    "#Q4 Computers are commonly used in encryption. A very simple form of encryption\n",
    " #(more accurately \"obfuscation\") would be to remove the spaces from a message\n",
    " #and reverse the resulting string. Write, and test, a function that takes a string\n",
    " #containing a message and \"encrypts\" it in this way.\n",
    " \n",
    "def encrypt_msg(string):\n",
    "    str = \"\"\n",
    "    for i in string:\n",
    "        if i != \" \":\n",
    "            str = i + str\n",
    "    return str\n",
    "    \n",
    "user_input = input(\"enter a message:\")\n",
    "print(encrypt_msg(user_input))"
   ]
  },
  {
   "cell_type": "code",
   "execution_count": 8,
   "metadata": {},
   "outputs": [
    {
     "name": "stdout",
     "output_type": "stream",
     "text": [
      "hFUFUFUeYWYWYWldadadalZAZAZAoAMAMAM\n"
     ]
    }
   ],
   "source": [
    "#Q5  Another way to hide a message is to include the letters that make it up within\n",
    "#seemingly random text. The letters of the message might be every fifth character,\n",
    "#for example. Write and test a function that does such encryption. It should\n",
    "#  randomly generate an interval (between 2 and 20), space the message out\n",
    "#  accordingly, and should fill the gaps with random letters. The function should\n",
    "#  return the encrypted message and the interval used.\n",
    "#  For example, if the message is \"send cheese\", the random interval is 2, and for\n",
    "#  clarity the random letters are not random:\n",
    "#  send cheese\n",
    "#  s  e  n  d   c  h  e  e  s  e\n",
    "#  sxyexynxydxy cxyhxyexyexysxye\n",
    "\n",
    "import random\n",
    "def encrypt(msg):\n",
    "    add = ''\n",
    "    for i in msg:\n",
    "        num = random.randint(0,1)\n",
    "        if num:\n",
    "            if  i != ' ':\n",
    "                add = add + i + (chr(random.randint(65, 90)) + chr(random.randint(65, 90)))*3\n",
    "            else:\n",
    "                add += i\n",
    "        elif not num == 4:\n",
    "            if  i != ' ':\n",
    "                add = add + i + (chr(random.randint(97, 122)) + chr(random.randint(97, 122)))*3\n",
    "            else:\n",
    "                add += i\n",
    "\n",
    "    return add\n",
    "\n",
    "message = input(\"Enter a message: \")\n",
    "print(encrypt(message))\n",
    "\n",
    "    \n",
    "    \n"
   ]
  },
  {
   "cell_type": "code",
   "execution_count": 11,
   "metadata": {},
   "outputs": [
    {
     "name": "stdout",
     "output_type": "stream",
     "text": [
      "hjkjkjkeyfyfyfleqeqeqlPNPNPNoKNKNKN wEJEJEJoSCSCSCrxvxvxvlSUSUSUdvwvwvw\n",
      "['hjkjkjkeyfyfyfleqeqeqlPNPNPNoKNKNKN', 'wEJEJEJoSCSCSCrxvxvxvlSUSUSUdvwvwvw']\n",
      "hello world\n"
     ]
    }
   ],
   "source": [
    "#Q6 Write a program that decrypts messages encoded as above.\n",
    "import random\n",
    "def encrypt(msg):\n",
    "    add = ''\n",
    "    for i in msg:\n",
    "        num = random.randint(0,1)\n",
    "        if num:\n",
    "            if  i != ' ':\n",
    "                add = add + i + (chr(random.randint(65, 90)) + chr(random.randint(65, 90)))*3\n",
    "            else:\n",
    "                add += i\n",
    "        elif not num == 4:\n",
    "            if  i != ' ':\n",
    "                add = add + i + (chr(random.randint(97, 122)) + chr(random.randint(97, 122)))*3\n",
    "            else:\n",
    "                add += i\n",
    "\n",
    "    return add\n",
    "\n",
    "message = input(\"Enter a message: \")\n",
    "encrypted_msg = (encrypt(message))\n",
    "print(encrypted_msg)\n",
    "\n",
    "#to decrypt the message\n",
    "separate = encrypted_msg.split(\" \")\n",
    "print(separate)\n",
    "decrypt_1 = separate[0][::7]\n",
    "decrypt_2 = separate[1][::7]\n",
    "decrypt_3 = [decrypt_1,decrypt_2]\n",
    "decrypted_message = \" \".join(decrypt_3)\n",
    "print(decrypted_message)\n",
    "    \n",
    "    \n",
    "    "
   ]
  },
  {
   "cell_type": "markdown",
   "metadata": {},
   "source": [
    "1.)  Would you describe the following Python statement as a function call? Or a method call?\n",
    " names.reverse()\n",
    "\n",
    " ans. method call"
   ]
  },
  {
   "cell_type": "markdown",
   "metadata": {},
   "source": [
    "2.)Write a Python statement that appends a single element to the end of the specified List\n",
    " using a method call.\n",
    " prices = [2.65, 7.65, 8.25, 9.56]\n",
    "\n",
    " ans. prices.insert(-1,10.25)"
   ]
  },
  {
   "cell_type": "markdown",
   "metadata": {},
   "source": [
    "3.) Write another statement that appends three elements to the end of the specified List using a\n",
    " single method call.\n",
    " ans. prices.extend([10.67, 11.99, 12.80])"
   ]
  },
  {
   "cell_type": "code",
   "execution_count": 1,
   "metadata": {},
   "outputs": [
    {
     "name": "stdout",
     "output_type": "stream",
     "text": [
      "2.65\n",
      "7.65\n",
      "8.25\n",
      "9.56\n"
     ]
    }
   ],
   "source": [
    "#4.) Now write a for loop that iterates over each value in the list and prints it to the screen.\n",
    "prices = [2.65, 7.65, 8.25, 9.56]\n",
    "for i in prices:\n",
    " print(i)"
   ]
  },
  {
   "cell_type": "markdown",
   "metadata": {},
   "source": [
    "5.)  Is a method that changes the contents of the associated value referred to as a mutator? Or\n",
    " an accessor?\n",
    "\n",
    " ans. mutators"
   ]
  },
  {
   "cell_type": "code",
   "execution_count": 12,
   "metadata": {},
   "outputs": [
    {
     "name": "stdout",
     "output_type": "stream",
     "text": [
      "[2, 3, 5, 7, 11, 13, 17]\n"
     ]
    }
   ],
   "source": [
    "#6 What would the contents of the primes list look like after execution of the following\n",
    " #statements?\n",
    "primes = [ 2, 3, 5, 7, 11, 13, 17, 19 ]\n",
    "primes.pop()\n",
    "print(primes)"
   ]
  },
  {
   "cell_type": "code",
   "execution_count": 6,
   "metadata": {},
   "outputs": [
    {
     "name": "stdout",
     "output_type": "stream",
     "text": [
      "[19, 17, 13, 11, 7, 5, 3, 2]\n"
     ]
    }
   ],
   "source": [
    "primes = [ 2, 3, 5, 7, 11, 13, 17, 19 ]\n",
    "primes.reverse()\n",
    "print(primes)"
   ]
  },
  {
   "cell_type": "code",
   "execution_count": 8,
   "metadata": {},
   "outputs": [
    {
     "name": "stdout",
     "output_type": "stream",
     "text": [
      "[2, 3, 5, 11, 13, 17, 19]\n"
     ]
    }
   ],
   "source": [
    "primes = [ 2, 3, 5, 7, 11, 13, 17, 19 ]\n",
    "primes.remove(7)\n",
    "print(primes)"
   ]
  },
  {
   "cell_type": "code",
   "execution_count": 9,
   "metadata": {},
   "outputs": [
    {
     "name": "stdout",
     "output_type": "stream",
     "text": [
      "[10, 32, 46, 95, 10, 50]\n"
     ]
    }
   ],
   "source": [
    "#7.) Provide an example of how the insert() method could be used to add a value of 10 to the\n",
    " #beginning of the list shown below.\n",
    "temps = [ 32, 46, 95, 10, 50 ]\n",
    "temps.insert(0,10)\n",
    "print(temps)"
   ]
  },
  {
   "cell_type": "code",
   "execution_count": 12,
   "metadata": {},
   "outputs": [
    {
     "data": {
      "text/plain": [
       "3"
      ]
     },
     "execution_count": 12,
     "metadata": {},
     "output_type": "execute_result"
    }
   ],
   "source": [
    "#8.) Now write a statement that uses an accessor method to find the index of the value 95 within\n",
    " #the list.\n",
    "temps = [10, 32, 46, 95, 10, 50]\n",
    "temps.index(95)"
   ]
  },
  {
   "cell_type": "code",
   "execution_count": 13,
   "metadata": {},
   "outputs": [
    {
     "data": {
      "text/plain": [
       "2"
      ]
     },
     "execution_count": 13,
     "metadata": {},
     "output_type": "execute_result"
    }
   ],
   "source": [
    "#9.)  Finally write a statement that uses another accessor method to count how many times the\n",
    " #number 10 appears within the list.\n",
    "temps =[10, 32, 46, 95, 10, 50]\n",
    "temps.count(10)"
   ]
  },
  {
   "cell_type": "code",
   "execution_count": 14,
   "metadata": {},
   "outputs": [],
   "source": [
    "#10.) What would be stored in the list samples after the following statements were executed?\n",
    "samples = [ 100.2, 100.6, 99.2, 765.2, 900.2, 400 ]\n",
    "samples = samples.reverse()\n",
    "#None would be stored"
   ]
  },
  {
   "cell_type": "markdown",
   "metadata": {},
   "source": [
    " mutators change the list content, but return ‘None’"
   ]
  },
  {
   "cell_type": "code",
   "execution_count": 16,
   "metadata": {},
   "outputs": [
    {
     "name": "stdout",
     "output_type": "stream",
     "text": [
      "[10000, 10201, 10404, 10609, 10816, 11025, 11236, 11449, 11664, 11881, 12100, 12321, 12544, 12769, 12996, 13225, 13456, 13689, 13924, 14161, 14400, 14641, 14884, 15129, 15376, 15625, 15876, 16129, 16384, 16641, 16900, 17161, 17424, 17689, 17956, 18225, 18496, 18769, 19044, 19321, 19600, 19881, 20164, 20449, 20736, 21025, 21316, 21609, 21904, 22201, 22500, 22801, 23104, 23409, 23716, 24025, 24336, 24649, 24964, 25281, 25600, 25921, 26244, 26569, 26896, 27225, 27556, 27889, 28224, 28561, 28900, 29241, 29584, 29929, 30276, 30625, 30976, 31329, 31684, 32041, 32400, 32761, 33124, 33489, 33856, 34225, 34596, 34969, 35344, 35721, 36100, 36481, 36864, 37249, 37636, 38025, 38416, 38809, 39204, 39601]\n"
     ]
    }
   ],
   "source": [
    "#11.)  Write a Python program that uses a List-Comprehension to produce the same list as the\n",
    " #following code \n",
    "values = []\n",
    "for x in range(100,200):\n",
    " values.append(x*x)\n",
    "print(values)"
   ]
  },
  {
   "cell_type": "code",
   "execution_count": 17,
   "metadata": {},
   "outputs": [
    {
     "name": "stdout",
     "output_type": "stream",
     "text": [
      "[10000, 10201, 10404, 10609, 10816, 11025, 11236, 11449, 11664, 11881, 12100, 12321, 12544, 12769, 12996, 13225, 13456, 13689, 13924, 14161, 14400, 14641, 14884, 15129, 15376, 15625, 15876, 16129, 16384, 16641, 16900, 17161, 17424, 17689, 17956, 18225, 18496, 18769, 19044, 19321, 19600, 19881, 20164, 20449, 20736, 21025, 21316, 21609, 21904, 22201, 22500, 22801, 23104, 23409, 23716, 24025, 24336, 24649, 24964, 25281, 25600, 25921, 26244, 26569, 26896, 27225, 27556, 27889, 28224, 28561, 28900, 29241, 29584, 29929, 30276, 30625, 30976, 31329, 31684, 32041, 32400, 32761, 33124, 33489, 33856, 34225, 34596, 34969, 35344, 35721, 36100, 36481, 36864, 37249, 37636, 38025, 38416, 38809, 39204, 39601]\n"
     ]
    }
   ],
   "source": [
    "values = [x * x for x in range(100,200)]\n",
    "print(values)"
   ]
  },
  {
   "cell_type": "code",
   "execution_count": 18,
   "metadata": {},
   "outputs": [
    {
     "name": "stdout",
     "output_type": "stream",
     "text": [
      "[10000, 10404, 10816, 11236, 11664, 12100, 12544, 12996, 13456, 13924, 14400, 14884, 15376, 15876, 16384, 16900, 17424, 17956, 18496, 19044, 19600, 20164, 20736, 21316, 21904, 22500, 23104, 23716, 24336, 24964, 25600, 26244, 26896, 27556, 28224, 28900, 29584, 30276, 30976, 31684, 32400, 33124, 33856, 34596, 35344, 36100, 36864, 37636, 38416, 39204]\n"
     ]
    }
   ],
   "source": [
    "values = [x * x  for x in range(100,200) if (x % 2) == 0]\n",
    "print(values)"
   ]
  },
  {
   "cell_type": "code",
   "execution_count": 19,
   "metadata": {},
   "outputs": [
    {
     "data": {
      "text/plain": [
       "tuple"
      ]
     },
     "execution_count": 19,
     "metadata": {},
     "output_type": "execute_result"
    }
   ],
   "source": [
    "#12.) What is the data-type of the following value?\n",
    "info = (\"Ken\", \"bae-192\", 62)\n",
    "type(info)"
   ]
  },
  {
   "cell_type": "markdown",
   "metadata": {},
   "source": [
    "13.) Is a Tuple mutable or immutable?\n",
    "\n",
    "ans. immutable"
   ]
  },
  {
   "cell_type": "markdown",
   "metadata": {},
   "source": [
    "14.)  Write a statement that creates a Tuple that contains a single element.\n",
    "\n",
    "ans. data = (age,)"
   ]
  },
  {
   "cell_type": "code",
   "execution_count": 20,
   "metadata": {},
   "outputs": [
    {
     "data": {
      "text/plain": [
       "tuple"
      ]
     },
     "execution_count": 20,
     "metadata": {},
     "output_type": "execute_result"
    }
   ],
   "source": [
    "data = (\"age\",)\n",
    "type(data)"
   ]
  },
  {
   "cell_type": "code",
   "execution_count": 22,
   "metadata": {},
   "outputs": [
    {
     "name": "stdout",
     "output_type": "stream",
     "text": [
      "100 200 150\n"
     ]
    }
   ],
   "source": [
    "#15.) Write a single Python statement that unpacks the following Tuple into three variables, called\n",
    " #x, y and z.\n",
    "coord = (100, 200, 150)\n",
    "x,y,z = coord\n",
    "print(x,y,z)"
   ]
  },
  {
   "cell_type": "code",
   "execution_count": 24,
   "metadata": {},
   "outputs": [
    {
     "name": "stdout",
     "output_type": "stream",
     "text": [
      "200\n"
     ]
    }
   ],
   "source": [
    "#16.)  Write another statement that uses indexing to access the second element of the Tuple and\n",
    " #store it in a variable called ‘height’\n",
    "coord = (100, 200, 150)\n",
    "x,y,z = coord\n",
    "height = coord[1]\n",
    "print(height)"
   ]
  },
  {
   "cell_type": "code",
   "execution_count": 25,
   "metadata": {},
   "outputs": [
    {
     "name": "stdout",
     "output_type": "stream",
     "text": [
      "100\n",
      "200\n",
      "150\n"
     ]
    }
   ],
   "source": [
    "# 17. Finally write a ‘for’ loop that prints each value within the Tuple.\n",
    "coord = (100,200,150)\n",
    "x,y,z = coord\n",
    "for i in coord:\n",
    "    print(i)"
   ]
  },
  {
   "cell_type": "markdown",
   "metadata": {},
   "source": [
    "18.) When a Tuple (or any sequence) type value is being passed as an argument to a function,\n",
    " what single character can be used as a prefix to force the sequence to be unpacked prior to\n",
    " the call being made?\n",
    "\n",
    " ans. *"
   ]
  },
  {
   "cell_type": "markdown",
   "metadata": {},
   "source": [
    "19.)  When discussing Tuples the phrase heterogeneous is sometimes used to describe the type\n",
    " of stored values. What does this mean in practice?\n",
    "\n",
    " ans. the concept includes that tuple can contain data of different types(heterogeneous)"
   ]
  },
  {
   "cell_type": "markdown",
   "metadata": {},
   "source": [
    "20.) What sister phrase is often used to refer to the type of values stored within a List? And what\n",
    " does this mean?\n",
    "\n",
    " ans. homogeneous (meaning list contains the data having same data type.)"
   ]
  }
 ],
 "metadata": {
  "kernelspec": {
   "display_name": "Python 3",
   "language": "python",
   "name": "python3"
  },
  "language_info": {
   "codemirror_mode": {
    "name": "ipython",
    "version": 3
   },
   "file_extension": ".py",
   "mimetype": "text/x-python",
   "name": "python",
   "nbconvert_exporter": "python",
   "pygments_lexer": "ipython3",
   "version": "3.12.0"
  }
 },
 "nbformat": 4,
 "nbformat_minor": 2
}
