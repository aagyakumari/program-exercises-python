{
 "cells": [
  {
   "cell_type": "code",
   "execution_count": 4,
   "metadata": {},
   "outputs": [
    {
     "name": "stdout",
     "output_type": "stream",
     "text": [
      "Hello World\n"
     ]
    }
   ],
   "source": [
    "#Q1\n",
    "print(\"Hello World\")"
   ]
  },
  {
   "cell_type": "code",
   "execution_count": 8,
   "metadata": {},
   "outputs": [
    {
     "name": "stdout",
     "output_type": "stream",
     "text": [
      "Hello, Aagya!\n"
     ]
    }
   ],
   "source": [
    "#Q2\n",
    "my_name = \"Aagya\"\n",
    "print(f\"Hello, {my_name}!\")"
   ]
  },
  {
   "cell_type": "code",
   "execution_count": 10,
   "metadata": {},
   "outputs": [
    {
     "name": "stdout",
     "output_type": "stream",
     "text": [
      "the temperature in fahrenheiht is 101.12\n"
     ]
    }
   ],
   "source": [
    "#Q3\n",
    "celcius = 38.4\n",
    "Fahren = celcius * (9/5)+32\n",
    "print (\"the temperature in fahrenheiht is\",Fahren)\n"
   ]
  },
  {
   "cell_type": "code",
   "execution_count": 11,
   "metadata": {},
   "outputs": [
    {
     "name": "stdout",
     "output_type": "stream",
     "text": [
      "Boycott's batting average is  56.83802816901409\n"
     ]
    }
   ],
   "source": [
    "#Q4\n",
    "matches = 609\n",
    "batted = 1014\n",
    "not_out = 162\n",
    "runs = 48426\n",
    "bat_avg = runs/(batted-not_out)\n",
    "print(\"Boycott's batting average is \",bat_avg)\n"
   ]
  },
  {
   "cell_type": "code",
   "execution_count": 13,
   "metadata": {},
   "outputs": [
    {
     "name": "stdout",
     "output_type": "stream",
     "text": [
      "full groups is 11\n",
      "left over groups is 36\n"
     ]
    }
   ],
   "source": [
    "#Q5\n",
    "group = 24\n",
    "pc = 24\n",
    "group_1 = 113//group\n",
    "group_2 = 175//group\n",
    "group_3 = 12//group\n",
    "full_groups = group_1 + group_2 + group_3\n",
    "print(\"full groups is\",full_groups)\n",
    "small_1 = 113%group\n",
    "small_2 = 175%group\n",
    "small_3 = 12%group\n",
    "leftover_groups = small_1 + small_2 + small_3\n",
    "print(\"left over groups is\",leftover_groups)\n",
    "\n"
   ]
  },
  {
   "cell_type": "markdown",
   "metadata": {},
   "source": [
    "week 1 (exercises)"
   ]
  },
  {
   "cell_type": "markdown",
   "metadata": {},
   "source": [
    "1.) What is the name of the programming language that we will be using on this module? What\n",
    " version of the language are we using?\n",
    "\n",
    " ans. python 3.12.1"
   ]
  },
  {
   "cell_type": "markdown",
   "metadata": {},
   "source": [
    "2.) A computer program takes some input, performs some processing then…. what?\n",
    "\n",
    "ans. gives output according to the input."
   ]
  },
  {
   "cell_type": "markdown",
   "metadata": {},
   "source": [
    "3.)  What generation of programming language is machine code?\n",
    "\n",
    "ans. first generation "
   ]
  },
  {
   "cell_type": "markdown",
   "metadata": {},
   "source": [
    "4.)  Which of the following is known as a second generation programming language?\n",
    " ● C++\n",
    " ● Java\n",
    " ● Assembly\n",
    " ● R\n",
    " ● Python\n",
    "\n",
    " ans. Assembly"
   ]
  },
  {
   "cell_type": "markdown",
   "metadata": {},
   "source": [
    "5.) State one problem associated with writing code in Assembly Language.\n",
    "\n",
    "ans. is time consuming"
   ]
  },
  {
   "cell_type": "markdown",
   "metadata": {},
   "source": [
    "6.) What generation of programming language is Python?\n",
    "\n",
    "ans. third generation"
   ]
  },
  {
   "cell_type": "markdown",
   "metadata": {},
   "source": [
    "7.) What is the purpose of a compiler?\n",
    "\n",
    "ans. compiles the whole program to machine code."
   ]
  },
  {
   "cell_type": "markdown",
   "metadata": {},
   "source": [
    "8.)  The Python interpreter uses an interaction model called REPL. What does this stand for?\n",
    "\n",
    "ans. Read Evaluate Print Loop"
   ]
  },
  {
   "cell_type": "markdown",
   "metadata": {},
   "source": [
    "9.)  Is it true that Python development always has to take place using interactive-mode within the\n",
    " Python interpreter?\n",
    "\n",
    " NO"
   ]
  },
  {
   "cell_type": "markdown",
   "metadata": {},
   "source": [
    "10.)  What does the term IDE stand for?\n",
    "\n",
    "ans. Integrated Development Environment"
   ]
  },
  {
   "cell_type": "markdown",
   "metadata": {},
   "source": [
    "11.)  What is the main reason why programmers use code libraries?\n",
    "\n",
    "ans. it includes different useful built-in functions."
   ]
  },
  {
   "cell_type": "markdown",
   "metadata": {},
   "source": [
    "12.) The Python language is often used in the field of data-science. What other language\n",
    " specifically supports data-science\n",
    "\n",
    " ans. R"
   ]
  },
  {
   "cell_type": "markdown",
   "metadata": {},
   "source": [
    "3.) An expression within a programming language consists of operands and operators.\n",
    " Given an expression such as:  20 + 10, which part of this is the operator?\n",
    "\n",
    " ans. +(operator) 20,10(operands)"
   ]
  },
  {
   "cell_type": "markdown",
   "metadata": {},
   "source": [
    "4.) Within Python, what calculation is performed by the ‘*’ operator?\n",
    "\n",
    "ans. multiplication"
   ]
  },
  {
   "cell_type": "markdown",
   "metadata": {},
   "source": [
    "5.)  And, what calculation is performed by the ‘/’ operator?\n",
    "\n",
    "ans. division"
   ]
  },
  {
   "cell_type": "markdown",
   "metadata": {},
   "source": [
    "6.)  And, what calculation is performed by the ‘**’   operator?\n",
    "\n",
    "ans. exponentiation"
   ]
  },
  {
   "cell_type": "markdown",
   "metadata": {},
   "source": [
    "7.) Using the information about expression evaluation provided in the related tutorial, evaluate\n",
    " each of the following expressions in your head and type the result in the answer boxes\n",
    " below. Remember that an operator precedence is applied, but can be overridden by the use\n",
    " of parentheses."
   ]
  },
  {
   "cell_type": "markdown",
   "metadata": {},
   "source": [
    "a.) 100 + 200 - 50\n",
    "\n",
    "ans. 250"
   ]
  },
  {
   "cell_type": "markdown",
   "metadata": {},
   "source": [
    "b.) 10 + 20 * 10\n",
    "\n",
    "ans. 210"
   ]
  },
  {
   "cell_type": "markdown",
   "metadata": {},
   "source": [
    "c.) 20 % 3\n",
    "\n",
    "ans. 6\n",
    "\n"
   ]
  },
  {
   "cell_type": "markdown",
   "metadata": {},
   "source": [
    "d.) 20 / (2 * 5)\n",
    "\n",
    "ans. 2"
   ]
  },
  {
   "cell_type": "markdown",
   "metadata": {},
   "source": [
    "e.) 20 / 2 * 5\n",
    "\n",
    "ans. 50\n"
   ]
  },
  {
   "cell_type": "markdown",
   "metadata": {},
   "source": [
    "f.) 10 * 2 + 1 * 3\n",
    "\n",
    "ans. 23"
   ]
  },
  {
   "cell_type": "markdown",
   "metadata": {},
   "source": [
    "g.) 5 + 10 ** 2\n",
    "\n",
    "ans. 105"
   ]
  },
  {
   "cell_type": "markdown",
   "metadata": {},
   "source": [
    "h.) (10 + 2 / 2) + ((10 * 2) ** 2)\n",
    "\n",
    "ans. 411"
   ]
  },
  {
   "cell_type": "markdown",
   "metadata": {},
   "source": [
    "8.) Use the Python interpreter to input and then execute a simple Python expression that adds\n",
    " the three numbers 100.6, 200.72 and 213.3, then write the result in the answer box below.\n",
    "\n",
    " ans. 514.62"
   ]
  },
  {
   "cell_type": "markdown",
   "metadata": {},
   "source": [
    "9.) Use the Python interpreter to input and then execute a simple Python expression that\n",
    " multiplies the three numbers 20.25, 100 and 23.9, then write the result in the answer box\n",
    " below.\n",
    "\n",
    " ans. 144.15"
   ]
  },
  {
   "cell_type": "markdown",
   "metadata": {},
   "source": [
    "10.)  Use the Python interpreter to input and then execute a simple Python expression that divides\n",
    " the number 10 by 0, then write the result in the answer box below.\n",
    "\n",
    " ans. ZeroDivisionError"
   ]
  },
  {
   "cell_type": "markdown",
   "metadata": {},
   "source": [
    "11.) What type of error is typically easier to identify? A syntax error? Or a logical error?\n",
    "\n",
    "ans. syntax error"
   ]
  },
  {
   "cell_type": "markdown",
   "metadata": {},
   "source": [
    "12.) What type of message is used by the Python interpreter to report run-time errors?\n",
    "\n",
    "ans. Traceback message"
   ]
  },
  {
   "cell_type": "markdown",
   "metadata": {},
   "source": [
    "13.)  What command can be used to exit the Python interpreter?\n",
    "\n",
    "ans. exit ()"
   ]
  },
  {
   "cell_type": "markdown",
   "metadata": {},
   "source": [
    "THANKYOU!"
   ]
  }
 ],
 "metadata": {
  "kernelspec": {
   "display_name": "Python 3",
   "language": "python",
   "name": "python3"
  },
  "language_info": {
   "codemirror_mode": {
    "name": "ipython",
    "version": 3
   },
   "file_extension": ".py",
   "mimetype": "text/x-python",
   "name": "python",
   "nbconvert_exporter": "python",
   "pygments_lexer": "ipython3",
   "version": "3.12.0"
  }
 },
 "nbformat": 4,
 "nbformat_minor": 2
}
