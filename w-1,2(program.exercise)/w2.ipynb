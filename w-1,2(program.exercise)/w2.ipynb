{
 "cells": [
  {
   "cell_type": "code",
   "execution_count": 3,
   "metadata": {},
   "outputs": [
    {
     "name": "stdout",
     "output_type": "stream",
     "text": [
      "Hello,what is your name? Mr.Apricot\n",
      "Hello, Mr.Apricot. Good to meet you!\n"
     ]
    }
   ],
   "source": [
    "#Q1\n",
    "user_name = input(\"enter your name:\")\n",
    "print(f\"Hello,what is your name? {user_name}\\nHello, {user_name}. Good to meet you!\")"
   ]
  },
  {
   "cell_type": "code",
   "execution_count": 7,
   "metadata": {},
   "outputs": [
    {
     "name": "stdout",
     "output_type": "stream",
     "text": [
      "32.5C is equivalent to 90.5F\n"
     ]
    }
   ],
   "source": [
    "#Q2\n",
    "celsius = float(input(\"Enter a temperature in Celcius:\"))\n",
    "Fahren = celsius * (9/5)+32\n",
    "print (f\"{celsius}C is equivalent to {Fahren}F\")"
   ]
  },
  {
   "cell_type": "code",
   "execution_count": 12,
   "metadata": {},
   "outputs": [
    {
     "name": "stdout",
     "output_type": "stream",
     "text": [
      "There will be 5 groups with 3 students left over.\n"
     ]
    }
   ],
   "source": [
    "#Q3\n",
    "num_stu = int(input(\"How many students? \"))\n",
    "grp_size = int(input(\"Required group size? \"))\n",
    "full_groups = num_stu//grp_size\n",
    "left_groups = num_stu%grp_size\n",
    "if full_groups>1 and left_groups >1:\n",
    "     print(f\"There will be {full_groups} groups with {left_groups} students left over.\")\n",
    "elif full_groups == 1 and left_groups == 1:\n",
    "    print(f\"There will be {full_groups} group with {left_groups} student left over.\")\n",
    "elif full_groups!=1 and left_groups == 1:\n",
    "    print(f\"There will be {full_groups} groups with {left_groups} student left over.\")\n",
    "elif full_groups == 1 and left_groups != 1:\n",
    "    print(f\"There will be {full_groups} group with {left_groups} students left over.\")\n",
    "    \n",
    "   \n",
    "   "
   ]
  },
  {
   "cell_type": "code",
   "execution_count": 14,
   "metadata": {},
   "outputs": [
    {
     "name": "stdout",
     "output_type": "stream",
     "text": [
      "give 8 sweets to each pupil and 2 is left over with you.\n"
     ]
    }
   ],
   "source": [
    "#Q4\n",
    "sweets = int(input(\"enter number of sweets:\"))\n",
    "pupils = int(input(\"enter the numbers of pupils attending:\"))\n",
    "distribute = sweets//pupils\n",
    "left_over = sweets%pupils\n",
    "print(f\"give {distribute} sweets to each pupil and {left_over} is left over with you.\")\n"
   ]
  },
  {
   "cell_type": "markdown",
   "metadata": {},
   "source": [
    "Week 2 Exercise"
   ]
  },
  {
   "cell_type": "markdown",
   "metadata": {},
   "source": [
    "1.) Which is the purpose of a variable within Python? \n",
    "\n",
    "ans. python variables are like containers that hold values."
   ]
  },
  {
   "cell_type": "markdown",
   "metadata": {},
   "source": [
    "2.) Write a simple Python statement that creates and assigns a value of 3.142 to a variable \n",
    "called ‘pi’\n",
    "\n",
    "ans. pi = 3.142"
   ]
  },
  {
   "cell_type": "markdown",
   "metadata": {},
   "source": [
    "3.) Which of the following is NOT a valid name for a variable within Python? \n",
    "total \n",
    "result \n",
    "question? \n",
    "name_1 \n",
    "\n",
    "ans. question?"
   ]
  },
  {
   "cell_type": "markdown",
   "metadata": {},
   "source": [
    "4.) age = 10 + 20 \n",
    "age = age + 5 \n",
    "\n",
    "ans. 35 "
   ]
  },
  {
   "cell_type": "markdown",
   "metadata": {},
   "source": [
    "5.) In the answer box below write the exact output that would be displayed if the following \n",
    "statement was executed (assuming age has been created as in the previous question): \n",
    "print(\"The age value is\",age) \n",
    "\n",
    "ans. the age value is 35\n"
   ]
  },
  {
   "cell_type": "markdown",
   "metadata": {},
   "source": [
    "6.) Which of the following is an example of an Augmented Assignment in Python? \n",
    "total = 20 \n",
    "total = total + 5 \n",
    "total *= 100 \n",
    "total  = max \n",
    "\n",
    "ans. total *= 100"
   ]
  },
  {
   "cell_type": "markdown",
   "metadata": {},
   "source": [
    "7.) Which of the following is an example of an integer type variable? \n",
    "result = \"xyz\" \n",
    "result = 20 \n",
    "result = 20.5 \n",
    "result = False\n",
    "\n",
    "ans. result = 20 "
   ]
  },
  {
   "cell_type": "markdown",
   "metadata": {},
   "source": [
    "8.) What are the only two legal values of a boolean type variable? \n",
    "\n",
    "ans. True and False"
   ]
  },
  {
   "cell_type": "markdown",
   "metadata": {},
   "source": [
    "9.) Following the execution of the code below, what will be the data-type of the variable \n",
    "'average'? \n",
    "average = total / count\n",
    "\n",
    "ans. float"
   ]
  },
  {
   "cell_type": "markdown",
   "metadata": {},
   "source": [
    "10.) Following the execution of the code below, what will be the data-type of the variable \n",
    "'message'? \n",
    "message = \"hello there!\"\n",
    "\n",
    "ans. string"
   ]
  },
  {
   "cell_type": "markdown",
   "metadata": {},
   "source": [
    "11.) What determines the current data-type of a variable?\n",
    "\n",
    "ans. the value assigned to the variable\n"
   ]
  },
  {
   "cell_type": "markdown",
   "metadata": {},
   "source": [
    "12.) What is the purpose of the built-in type() function?\n",
    "\n",
    "ans. to show the data type."
   ]
  },
  {
   "cell_type": "markdown",
   "metadata": {},
   "source": [
    "13.) What would be the output following execution of the following code? \n",
    "type(10.2) \n",
    "\n",
    "ans. float"
   ]
  },
  {
   "cell_type": "markdown",
   "metadata": {},
   "source": [
    "14.) Does the Python language support Dynamic Typing, or Static Typing? \n",
    "\n",
    "ans. dynamic typing"
   ]
  },
  {
   "cell_type": "markdown",
   "metadata": {},
   "source": [
    "15.) Which of the following is an example of a function call? \n",
    "answer = 10 \n",
    "print(answer) \n",
    "total *= 10 \n",
    "10 + 20\n",
    "\n",
    "ans. print(answer)"
   ]
  },
  {
   "cell_type": "markdown",
   "metadata": {},
   "source": [
    "16.) What is the name given to the values that are passed to a function within the parentheses?\n",
    "\n",
    "ans. parameters"
   ]
  },
  {
   "cell_type": "markdown",
   "metadata": {},
   "source": [
    "17.) What is the purpose of the built-in input() function? \n",
    "\n",
    "ans. to read the input from the user."
   ]
  },
  {
   "cell_type": "markdown",
   "metadata": {},
   "source": [
    "18.) What is the data-type of the value returned by the input() function?\n",
    "\n",
    "ans. string"
   ]
  },
  {
   "cell_type": "code",
   "execution_count": 1,
   "metadata": {},
   "outputs": [
    {
     "name": "stdout",
     "output_type": "stream",
     "text": [
      "aagya\n"
     ]
    }
   ],
   "source": [
    "#.19)\n",
    "name = \"aagya\"\n",
    "print(name)"
   ]
  },
  {
   "cell_type": "code",
   "execution_count": 2,
   "metadata": {},
   "outputs": [
    {
     "name": "stdout",
     "output_type": "stream",
     "text": [
      "Hello, is your name \"Bwian\"?\n"
     ]
    }
   ],
   "source": [
    "#.20) \n",
    "print('Hello, is your name \"Bwian\"?')"
   ]
  },
  {
   "cell_type": "code",
   "execution_count": 4,
   "metadata": {},
   "outputs": [
    {
     "name": "stdout",
     "output_type": "stream",
     "text": [
      "Or is your name 'Woger'?\n"
     ]
    }
   ],
   "source": [
    "#.21)\n",
    "print(\"Or is your name 'Woger'?\")"
   ]
  },
  {
   "cell_type": "code",
   "execution_count": 3,
   "metadata": {},
   "outputs": [
    {
     "name": "stdout",
     "output_type": "stream",
     "text": [
      "This is a string containing a backslash (\\) ,\n",
      "\t a single quote ('), a double quote (\"),\n",
      "\t and is split across multiple lines\n"
     ]
    }
   ],
   "source": [
    "#.22)\n",
    "print(\"This is a string containing a backslash (\\\\) ,\\n\\t a single quote ('), a double quote (\\\"),\\n\\t and is split across multiple lines\")"
   ]
  },
  {
   "cell_type": "code",
   "execution_count": 4,
   "metadata": {},
   "outputs": [
    {
     "name": "stdout",
     "output_type": "stream",
     "text": [
      "This is a string containing a backslash (\\), \n",
      "              a single quote ('), a double quote (\") \n",
      "              and is split across multiple lines \n"
     ]
    }
   ],
   "source": [
    "#.23\n",
    "print ('''This is a string containing a backslash (\\\\), \n",
    "              a single quote ('), a double quote (\") \n",
    "              and is split across multiple lines ''')"
   ]
  },
  {
   "cell_type": "markdown",
   "metadata": {},
   "source": [
    "24.) Use the Python interpreter to input a small Python program that asks the user to input a \n",
    "temperature in fahrenheit. Once the value has been input, display a message that shows the \n",
    "same temperature in celsius. You may have to do some research in order to find out the \n",
    "conversion method. Once this works, type the program in the answer box below."
   ]
  },
  {
   "cell_type": "code",
   "execution_count": 12,
   "metadata": {},
   "outputs": [
    {
     "name": "stdout",
     "output_type": "stream",
     "text": [
      "the temperature in celcius is 2.366863905325444C\n"
     ]
    }
   ],
   "source": [
    "#.24\n",
    "fahren = float(input(\"enter temperature in fahrenheit:\"))\n",
    "celcius = fahren / ((9/5)+32)\n",
    "print (f\"the temperature in celcius is {celcius}C\")\n"
   ]
  },
  {
   "cell_type": "markdown",
   "metadata": {},
   "source": [
    "25.) Within the answer box below write a small Python program that asks the user to enter two \n",
    "values. Store these in variables called 'a' and 'b' respectively. "
   ]
  },
  {
   "cell_type": "code",
   "execution_count": null,
   "metadata": {},
   "outputs": [],
   "source": [
    "a = input(\"enter first value:\")\n",
    "b = input(\"enter second value:\")"
   ]
  },
  {
   "cell_type": "markdown",
   "metadata": {},
   "source": [
    "26.) Once the values have been input use three calls to the print() function to show output \n",
    "such as the following (in this example the user entered 10.2 and 18.3) - \n",
    "The value 'a' was 10.2 and the value 'b' was 18.3 \n",
    "The sum of 'a' and 'b' is 28.5 \n",
    "The product of 'a' and 'b' is 186.66"
   ]
  },
  {
   "cell_type": "code",
   "execution_count": 16,
   "metadata": {},
   "outputs": [
    {
     "name": "stdout",
     "output_type": "stream",
     "text": [
      "The value 'a' was 10.2 and the value 'b' was 18.3\n",
      "The sum of 'a' and 'b' is 28.5\n",
      "The product of 'a' and 'b' is 186.66\n"
     ]
    }
   ],
   "source": [
    "a = float(input(\"enter first value:\"))\n",
    "b = float(input(\"enter second value:\"))\n",
    "print(f\"The value 'a' was {a} and the value 'b' was {b}\")\n",
    "print(f\"The sum of 'a' and 'b' is {a+b}\")\n",
    "print(f\"The product of 'a' and 'b' is {a*b}\")"
   ]
  },
  {
   "cell_type": "markdown",
   "metadata": {},
   "source": [
    "27.) Python includes a built-in function called max(). When this is called with multiple argument \n",
    "values it returns the largest of the given arguments. e.g. \n",
    "max(20, 50, 30)  # this would return 50 \n",
    "Within the answer box below write a small program that asks the user to input three values. \n",
    "Store these in variables (the names are up to you) then use the max() function to display the \n",
    "largest of the input values."
   ]
  },
  {
   "cell_type": "code",
   "execution_count": 20,
   "metadata": {},
   "outputs": [
    {
     "name": "stdout",
     "output_type": "stream",
     "text": [
      "50\n"
     ]
    }
   ],
   "source": [
    "value_1 = input(\"enter the first value:\")\n",
    "value_2 = input(\"enter the second value:\")\n",
    "value_3 = input(\"enter the third value:\")\n",
    "print(max(value_1,value_2,value_3))"
   ]
  },
  {
   "cell_type": "markdown",
   "metadata": {},
   "source": [
    "28.) Using the Python interpreter execute your code, then examine the output generated when \n",
    "the input the values are 'hello', 'welcome', and 'bye' \n",
    "Does the program still show the maximum value? If not, what does it show?"
   ]
  },
  {
   "cell_type": "code",
   "execution_count": 21,
   "metadata": {},
   "outputs": [
    {
     "name": "stdout",
     "output_type": "stream",
     "text": [
      "welcome\n"
     ]
    }
   ],
   "source": [
    "value_1 = input(\"enter the first value:\")\n",
    "value_2 = input(\"enter the second value:\")\n",
    "value_3 = input(\"enter the third value:\")\n",
    "print(max(value_1,value_2,value_3))"
   ]
  },
  {
   "cell_type": "markdown",
   "metadata": {},
   "source": [
    "29.)Given the following definition: \n",
    "name = \"Black Knight\" \n",
    "What would each of the following Python statements display?"
   ]
  },
  {
   "cell_type": "code",
   "execution_count": 24,
   "metadata": {},
   "outputs": [
    {
     "name": "stdout",
     "output_type": "stream",
     "text": [
      "B\n",
      "k\n",
      "t\n",
      "h\n",
      "ack\n",
      "Knight\n",
      "Black\n",
      "Black Knight\n"
     ]
    }
   ],
   "source": [
    "name = \"Black Knight\"\n",
    "print(name[0])\n",
    "print( name[4] )\n",
    "print( name[-1] )\n",
    "print( name[-2] )\n",
    "print( name[2:5] )\n",
    "print( name[6:] ) \n",
    "print( name[:5] )\n",
    "print( name[:] ) \n",
    "\n",
    "\n",
    "\n",
    "\n"
   ]
  },
  {
   "cell_type": "markdown",
   "metadata": {},
   "source": [
    "30.) Which of the following creates a variable containing a List? \n",
    "names = \"Terry\" \n",
    "names = 10 \n",
    "names = [ \"Mark\", \"Jon\", \"Amanda\", \"Edward\", \"Sally\" ] \n",
    "names = \"Mark\", \"Jon\", \"Amanda\"\n",
    "\n",
    "ans. names = [ \"Mark\", \"Jon\", \"Amanda\", \"Edward\", \"Sally\" ] "
   ]
  },
  {
   "cell_type": "markdown",
   "metadata": {},
   "source": [
    "31.) Is the following a valid List, even though it contains values based on different data-types? \n",
    "values = [10.2, \"Jon\", False, \"Edward\", True ]\n",
    "\n",
    "ans. YES!!!"
   ]
  },
  {
   "cell_type": "markdown",
   "metadata": {},
   "source": [
    "32.) If a value is mutable, can it be modified after it has been created?\n",
    "\n",
    "ans. YES!!!"
   ]
  },
  {
   "cell_type": "markdown",
   "metadata": {},
   "source": [
    "33.) What term is used to describe a value that cannot be changed once it has been created?\n",
    "\n",
    "ans. immutable"
   ]
  },
  {
   "cell_type": "markdown",
   "metadata": {},
   "source": [
    "34.) Is a List mutable or immutable?\n",
    "\n",
    "ans. mutable"
   ]
  },
  {
   "cell_type": "markdown",
   "metadata": {},
   "source": [
    "35.) Is a String mutable or immutable? \n",
    "\n",
    "ans. immutable"
   ]
  },
  {
   "cell_type": "markdown",
   "metadata": {},
   "source": [
    "36.) Given the following definition - \n",
    "names = [\"Terry\", \"John\", \"Michael\", \"Eric\", \"Terry\", \"Graham\"] \n",
    "What would each of the following Python statements display?"
   ]
  },
  {
   "cell_type": "code",
   "execution_count": 26,
   "metadata": {},
   "outputs": [
    {
     "name": "stdout",
     "output_type": "stream",
     "text": [
      "Michael\n",
      "Terry\n",
      "['Terry', 'John', 'Michael']\n"
     ]
    }
   ],
   "source": [
    "names = [\"Terry\", \"John\", \"Michael\", \"Eric\", \"Terry\", \"Graham\"] \n",
    "print( names[2] ) \n",
    "print( names[-2] )\n",
    "print( names[0:3] ) \n",
    "\n"
   ]
  },
  {
   "cell_type": "code",
   "execution_count": 27,
   "metadata": {},
   "outputs": [
    {
     "ename": "TypeError",
     "evalue": "can only concatenate list (not \"str\") to list",
     "output_type": "error",
     "traceback": [
      "\u001b[1;31m---------------------------------------------------------------------------\u001b[0m",
      "\u001b[1;31mTypeError\u001b[0m                                 Traceback (most recent call last)",
      "Cell \u001b[1;32mIn[27], line 2\u001b[0m\n\u001b[0;32m      1\u001b[0m names \u001b[38;5;241m=\u001b[39m [\u001b[38;5;124m\"\u001b[39m\u001b[38;5;124mTerry\u001b[39m\u001b[38;5;124m\"\u001b[39m, \u001b[38;5;124m\"\u001b[39m\u001b[38;5;124mJohn\u001b[39m\u001b[38;5;124m\"\u001b[39m, \u001b[38;5;124m\"\u001b[39m\u001b[38;5;124mMichael\u001b[39m\u001b[38;5;124m\"\u001b[39m, \u001b[38;5;124m\"\u001b[39m\u001b[38;5;124mEric\u001b[39m\u001b[38;5;124m\"\u001b[39m, \u001b[38;5;124m\"\u001b[39m\u001b[38;5;124mTerry\u001b[39m\u001b[38;5;124m\"\u001b[39m, \u001b[38;5;124m\"\u001b[39m\u001b[38;5;124mGraham\u001b[39m\u001b[38;5;124m\"\u001b[39m]\n\u001b[1;32m----> 2\u001b[0m names \u001b[38;5;241m=\u001b[39m \u001b[43mnames\u001b[49m\u001b[43m \u001b[49m\u001b[38;5;241;43m+\u001b[39;49m\u001b[43m \u001b[49m\u001b[38;5;124;43m\"\u001b[39;49m\u001b[38;5;124;43mBrian\u001b[39;49m\u001b[38;5;124;43m\"\u001b[39;49m \n\u001b[0;32m      3\u001b[0m \u001b[38;5;28mprint\u001b[39m( names )\n",
      "\u001b[1;31mTypeError\u001b[0m: can only concatenate list (not \"str\") to list"
     ]
    }
   ],
   "source": [
    "names = [\"Terry\", \"John\", \"Michael\", \"Eric\", \"Terry\", \"Graham\"]\n",
    "names = names + \"Brian\" \n",
    "print( names )\n",
    "#TypeError: can only concatenate list (not \"str\") to list"
   ]
  },
  {
   "cell_type": "code",
   "execution_count": 28,
   "metadata": {},
   "outputs": [
    {
     "name": "stdout",
     "output_type": "stream",
     "text": [
      "['Mark', 'Jon', 'John', 'Michael', 'Eric', 'Terry', 'Graham']\n"
     ]
    }
   ],
   "source": [
    "names = [\"Terry\", \"John\", \"Michael\", \"Eric\", \"Terry\", \"Graham\"]\n",
    "names[0:1] = [\"Mark\", \"Jon\"] \n",
    "print( names )"
   ]
  },
  {
   "cell_type": "markdown",
   "metadata": {},
   "source": [
    "36.) What built-in function within Python can be used to find out how many elements are \n",
    "contained within a string or list?\n",
    "\n",
    "ans. len()"
   ]
  },
  {
   "cell_type": "markdown",
   "metadata": {},
   "source": [
    "THANKYOU!!!"
   ]
  }
 ],
 "metadata": {
  "kernelspec": {
   "display_name": "Python 3",
   "language": "python",
   "name": "python3"
  },
  "language_info": {
   "codemirror_mode": {
    "name": "ipython",
    "version": 3
   },
   "file_extension": ".py",
   "mimetype": "text/x-python",
   "name": "python",
   "nbconvert_exporter": "python",
   "pygments_lexer": "ipython3",
   "version": "3.12.0"
  }
 },
 "nbformat": 4,
 "nbformat_minor": 2
}
