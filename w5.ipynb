{
 "cells": [
  {
   "cell_type": "code",
   "execution_count": null,
   "metadata": {},
   "outputs": [],
   "source": [
    "#Q1  Using command-line arguments involves thesysmodule.Review the docs for this\n",
    " #module and using the information in there write a short program that when run\n",
    " #from the command-line reports what operating system platform is being used.\n",
    "import sys\n",
    "\n",
    "def report_platform():\n",
    "    platform = sys.platform\n",
    "    print(f\"The operating system platform is: {platform}\")\n",
    "\n",
    "if __name__ == \"__main__\":\n",
    "    report_platform()"
   ]
  },
  {
   "cell_type": "code",
   "execution_count": null,
   "metadata": {},
   "outputs": [],
   "source": [
    "#Q2  Write a program that, when run from the command line, reports how many\n",
    " #arguments were provided. (Remember that the program name itself isnotan\n",
    " #argument).\n",
    "import sys\n",
    "arguments = sys.argv[1:]\n",
    "print(len(arguments))"
   ]
  },
  {
   "cell_type": "code",
   "execution_count": null,
   "metadata": {},
   "outputs": [],
   "source": [
    "#Q3 Write a program that takes a bunch of command-line arguments, and then prints\n",
    " #out the shortest. If there is more than one of the shortest length, any will do.\n",
    " #Hint: Don't overthink this. A good way to find the shortest is just to sort them.\n",
    "import sys\n",
    "\n",
    "arguments = sys.argv[1:]\n",
    "arguments.sort(key = len)\n",
    "\n",
    "if arguments:\n",
    "    print(arguments[0])\n",
    "else:\n",
    "    print(\"No arguments provided.\")"
   ]
  },
  {
   "cell_type": "code",
   "execution_count": null,
   "metadata": {},
   "outputs": [],
   "source": [
    "#Q4 Write a program that takes a URL as a command-line argument and reports\n",
    "#whether or not there is a working website at that address.\n",
    " #Hint: You need to get the HTTP response code.\n",
    " #Another Hint: StackOverflow is your friend.\n",
    "import sys\n",
    "import requests\n",
    "\n",
    "def check_website(url):\n",
    "    try:\n",
    "        response = requests.get(url)\n",
    "        response.raise_for_status()\n",
    "        print(f\"Website at {url} is reachable. Status code: {response.status_code}\")\n",
    "    except requests.RequestException as e:\n",
    "        print(f\"Failed to reach website at {url}. Error: {e}\")\n",
    "\n",
    "if __name__ == \"__main__\":\n",
    "    url = sys.argv[1] if len(sys.argv) > 1 else None\n",
    "    if not url:\n",
    "        print(\"Usage: python check_website.py <URL>\")\n",
    "        sys.exit(1)\n",
    "\n",
    "    check_website(url)"
   ]
  },
  {
   "cell_type": "code",
   "execution_count": null,
   "metadata": {},
   "outputs": [],
   "source": [
    "#Q5  Last week you wrote a program that processed a collection of temperature readings\n",
    " #entered by the user and displayed the maximum, minimum, and mean. Create a\n",
    " #version of that program that takes the values from the command-line instead. Be\n",
    " #sure to handle the case where no arguments are provided!\n",
    "import sys\n",
    "\n",
    "def temp_calc(temperatures):\n",
    "    if not temperatures:\n",
    "        print(\"No temperature readings provided.\")\n",
    "        return\n",
    "    \n",
    "    temperatures = [float(temp) for temp in temperatures]\n",
    "    max_temp = max(temperatures)\n",
    "    min_temp = min(temperatures)\n",
    "    mean_temp = sum(temperatures) / len(temperatures)\n",
    "    \n",
    "    print(f\"Maximum Temperature: {max_temp}\")\n",
    "    print(f\"Minimum Temperature: {min_temp}\")\n",
    "    print(f\"Mean Temperature: {mean_temp}\")\n",
    "\n",
    "if __name__ == \"__main__\":\n",
    "    if len(sys.argv) < 2:\n",
    "        print(\"Usage: python temperature_stats.py <temperature1> <temperature2> ...\")\n",
    "        sys.exit(1)\n",
    "\n",
    "    temperature_data = sys.argv[1:]\n",
    "    temp_calc(temperature_data)\n"
   ]
  },
  {
   "cell_type": "code",
   "execution_count": null,
   "metadata": {},
   "outputs": [],
   "source": [
    "#Q6 Write a program that takes the name of a file as a command-line argument, and\n",
    " #creates a backup copy of that file. The backup should contain an exact copy of the\n",
    " #contents of the original and should, obviously, have a different name.\n",
    " #Hint: By now, you should be getting the idea that there is a built-in way to do the\n",
    " #heavy li ing here! Take a look at the \"Brief Tour of the Standard Library\" in the docs.\n",
    " \n",
    "import sys\n",
    "import shutil\n",
    "\n",
    "def create_backup(file_path):\n",
    "    try:\n",
    "        # Generate a backup file name (appending '_backup' to the original file name)\n",
    "        backup_path = file_path.replace('.', '_backup.')\n",
    "\n",
    "        # Copy the contents of the original file to the backup file\n",
    "        shutil.copy2(file_path, backup_path)\n",
    "\n",
    "        print(f\"Backup created successfully: {backup_path}\")\n",
    "    except FileNotFoundError:\n",
    "        print(f\"Error: File not found - {file_path}\")\n",
    "    except PermissionError:\n",
    "        print(f\"Error: Permission denied - {file_path}\")\n",
    "    except Exception as e:\n",
    "        print(f\"An unexpected error occurred: {e}\")\n",
    "\n",
    "if __name__ == \"__main__\":\n",
    "    if len(sys.argv) != 2:\n",
    "        print(\"Usage: python backup_file.py <file_path>\")\n",
    "        sys.exit(1)\n",
    "\n",
    "    file_to_backup = sys.argv[1]\n",
    "    create_backup(file_to_backup)\n",
    "\n",
    " "
   ]
  },
  {
   "cell_type": "markdown",
   "metadata": {},
   "source": [
    "WEEK 5 EXERCISE\n"
   ]
  },
  {
   "cell_type": "markdown",
   "metadata": {},
   "source": [
    "1.) When a Python program is stored within a text file (i.e. a script), what suffix should be used\n",
    " for the filename?\n",
    "\n",
    " ans.  .py"
   ]
  },
  {
   "cell_type": "markdown",
   "metadata": {},
   "source": [
    "2.) Is it necessary to use a special Integrated Development Environment (IDE) to write Python\n",
    " code in text files?\n",
    "\n",
    " ans. NO"
   ]
  },
  {
   "cell_type": "markdown",
   "metadata": {},
   "source": [
    "3.)  When a script is executed from a file, are the results of evaluating expressions automatically\n",
    " displayed on the screen without the need of a print() function call?\n",
    "\n",
    " ans. NO"
   ]
  },
  {
   "cell_type": "markdown",
   "metadata": {},
   "source": [
    "4.) What command would need to be typed in an operating system terminal window in order to\n",
    " execute a Python script called PrintNames.py?\n",
    "\n",
    " ans. Python PrintNames.py"
   ]
  },
  {
   "cell_type": "markdown",
   "metadata": {},
   "source": [
    "5.)  What command would need to be typed in a terminal in order to pass the values \"John\",\n",
    " \"Eric\", \"Graham\" as command line arguments to the PrintNames.py script?\n",
    "\n",
    " ans. python PrintNames.py John Eric Graham"
   ]
  },
  {
   "cell_type": "markdown",
   "metadata": {},
   "source": [
    "6.) When a Python script wishes to access command line arguments, what module needs to be\n",
    " imported?\n",
    "\n",
    " ans. import sys"
   ]
  },
  {
   "cell_type": "markdown",
   "metadata": {},
   "source": [
    "7.) What is the data-type of the sys.argv variable?\n",
    "\n",
    "ans. list"
   ]
  },
  {
   "cell_type": "markdown",
   "metadata": {},
   "source": [
    "8.) What is stored within the first element of the sys.argv variable?\n",
    "\n",
    "ans. program file name"
   ]
  },
  {
   "cell_type": "markdown",
   "metadata": {},
   "source": [
    "9.) Use a text editor to write the script called PrintNames.py. This should display any\n",
    " command line arguments that were passed during execution.\n",
    " Once complete, place your solution in the answer box below.\n",
    "\n",
    " ans. \n",
    " import sys\n",
    " parameters = sys.argv[1:]\n",
    " print(parameters)"
   ]
  },
  {
   "cell_type": "markdown",
   "metadata": {},
   "source": [
    "10.) import sys\n",
    "if len(sys.argv) >= 2:\n",
    "   parameters = sys.argv[1:]\n",
    "     print(parameters)\n",
    " else:\n",
    "     print(\"no names provided\")"
   ]
  },
  {
   "cell_type": "markdown",
   "metadata": {},
   "source": [
    "11.)  When using an import statement it is possible to provide an alias that can be used as an\n",
    " alternative name to access module content.\n",
    " Write an import statement that imports the whole of the sys module, and renames it to\n",
    " my_system.\n",
    "\n",
    " ans. import sys as my_system"
   ]
  },
  {
   "cell_type": "markdown",
   "metadata": {},
   "source": [
    "12.) Write a from..import statement that imports only the math.floor function, and renames it\n",
    " to lower\n",
    "\n",
    " ans. from math import floor as lower"
   ]
  },
  {
   "cell_type": "markdown",
   "metadata": {},
   "source": [
    "13.)  What is stored in a symbol-table?\n",
    "\n",
    "ans. stores the address of all identifiers(symbols) in the program."
   ]
  },
  {
   "cell_type": "markdown",
   "metadata": {},
   "source": [
    "14.) Why is the following type of import statement generally not recommended?\n",
    " from math import *\n",
    "\n",
    " ans. clash of file names and takes more memory"
   ]
  },
  {
   "cell_type": "markdown",
   "metadata": {},
   "source": [
    "15.)  When working in interactive-mode what convenient function can be used to list all names\n",
    " defined within a module?\n",
    "\n",
    " ans. dir()"
   ]
  },
  {
   "cell_type": "markdown",
   "metadata": {},
   "source": [
    "16.) What is the value stored within the sys.path variable used for?\n",
    "\n",
    "ans. it gives the list of paths where the interpretor searches for modules."
   ]
  },
  {
   "cell_type": "markdown",
   "metadata": {},
   "source": [
    "17.) When a program is being executed as a script what value is assigned to the special variable\n",
    " __name__?\n",
    "\n",
    " ans. __main__"
   ]
  },
  {
   "cell_type": "markdown",
   "metadata": {},
   "source": [
    "18.) What value is assigned to the __name__ variable when a program has been imported as a\n",
    " module?\n",
    "\n",
    " ans. filename.py"
   ]
  },
  {
   "cell_type": "markdown",
   "metadata": {},
   "source": [
    "19.) Why is it useful for a program to be able to detect whether it is running as a script, or\n",
    " whether it has been imported as a module?\n",
    "\n",
    " ans. to be flexible enough"
   ]
  }
 ],
 "metadata": {
  "kernelspec": {
   "display_name": "Python 3",
   "language": "python",
   "name": "python3"
  },
  "language_info": {
   "codemirror_mode": {
    "name": "ipython",
    "version": 3
   },
   "file_extension": ".py",
   "mimetype": "text/x-python",
   "name": "python",
   "nbconvert_exporter": "python",
   "pygments_lexer": "ipython3",
   "version": "3.12.0"
  }
 },
 "nbformat": 4,
 "nbformat_minor": 2
}
